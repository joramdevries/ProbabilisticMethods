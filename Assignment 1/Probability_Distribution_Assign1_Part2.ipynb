{
 "cells": [
  {
   "cell_type": "code",
   "execution_count": 19,
   "id": "2b474b56",
   "metadata": {},
   "outputs": [],
   "source": [
    "import numpy as np\n",
    "import pandas as pd\n",
    "import scipy.stats as stats\n",
    "import scipy\n",
    "import matplotlib.pyplot as plt\n",
    "import sklearn\n",
    "import sklearn.neural_network"
   ]
  },
  {
   "cell_type": "code",
   "execution_count": 20,
   "id": "9ecab0b3",
   "metadata": {},
   "outputs": [],
   "source": [
    "WindData = pd.read_csv('HovsoreData_Sonic_100m_2004-2013.csv')"
   ]
  },
  {
   "cell_type": "code",
   "execution_count": 21,
   "id": "d5019159",
   "metadata": {},
   "outputs": [],
   "source": [
    "# Filter rows where 'Wsp' is less than or equal to 35 m/s\n",
    "filtered_WindData = WindData[WindData['Wsp'] <= 35]\n",
    "\n",
    "filtered_WindData.loc[filtered_WindData[\"TI\"] <= 0.001] = np.nan\n",
    "\n",
    "filtered_WindData = filtered_WindData.dropna()\n",
    "\n",
    "# Save the filtered data to a new CSV file\n",
    "filtered_csv_file = 'FilteredWindData.csv'\n",
    "filtered_WindData.to_csv(filtered_csv_file, index=False)\n",
    "\n",
    "WindData = filtered_WindData"
   ]
  },
  {
   "cell_type": "code",
   "execution_count": 22,
   "id": "7e3091db",
   "metadata": {},
   "outputs": [],
   "source": [
    "U = WindData['Wsp']"
   ]
  },
  {
   "cell_type": "code",
   "execution_count": 23,
   "id": "1f59cc30",
   "metadata": {},
   "outputs": [
    {
     "name": "stdout",
     "output_type": "stream",
     "text": [
      "Umean =  8.83891997435993\n",
      "Ustd =  4.563811841180505\n",
      "n =  429796\n"
     ]
    }
   ],
   "source": [
    "Umean = np.mean(U)\n",
    "Ustd = np.std(U)\n",
    "\n",
    "n = len(U) # Count the number of samples\n",
    "\n",
    "\n",
    "print(\"Umean = \", Umean)\n",
    "print(\"Ustd = \", Ustd)\n",
    "print(\"n = \", n)"
   ]
  },
  {
   "cell_type": "code",
   "execution_count": 24,
   "id": "2e9372ce",
   "metadata": {},
   "outputs": [],
   "source": [
    "alpha =  1 - 0.95# Corresponding to 95% probability  ( alpha = 1-p)"
   ]
  },
  {
   "cell_type": "code",
   "execution_count": 25,
   "id": "0b319fdb",
   "metadata": {},
   "outputs": [
    {
     "name": "stdout",
     "output_type": "stream",
     "text": [
      "Confidence interval based on bootstrapping: [10.0988704224795, 10.10171439450344]\n"
     ]
    }
   ],
   "source": [
    "Nbootstrap = 100 #99999\n",
    "BootstrapSize = len(U)\n",
    "\n",
    "Bsample = np.random.randint(low = 0, high = 8, size = (Nbootstrap,BootstrapSize))\n",
    "BootstrapSample = np.zeros((Nbootstrap,BootstrapSize))\n",
    "for i in range(Nbootstrap):\n",
    "    for j in range(BootstrapSize):\n",
    "        BootstrapSample[i,j] = U[Bsample[i,j]]\n",
    "        \n",
    "#BootstrapSample = \n",
    "\n",
    "BootstrapMeans = np.mean(BootstrapSample, axis=1)\n",
    "BootstrapMeans = np.sort(BootstrapMeans)\n",
    "\n",
    "Rlow = int((Nbootstrap+1) * (alpha/2) )\n",
    "Rhigh = int((Nbootstrap+1) * (1-alpha/2))\n",
    "\n",
    "CIn_B = BootstrapMeans[Rlow]\n",
    "CIp_B = BootstrapMeans[Rhigh]\n",
    "\n",
    "print('Confidence interval based on bootstrapping: [' + str(CIn_B) + ', ' + str(CIp_B) + ']')"
   ]
  },
  {
   "cell_type": "code",
   "execution_count": 26,
   "id": "ccf0e9f2",
   "metadata": {},
   "outputs": [
    {
     "name": "stdout",
     "output_type": "stream",
     "text": [
      "Fitting the environmental uncertainty variable 𝑋𝑊:\n",
      "Did you try bootstrapping directly on the data? What did you notice? The uncertainty likely depends on the\n",
      "bootstrap sample size (how many points you use in each bootstrap sample). In order to determine the right\n",
      "bootstrap sample size, we should consider what the wind speed has certain long variation cycles (diurnal,\n",
      "seasonal), hence shuffling the data may not be the most realistic way to determine the uncertainty as it\n",
      "eliminates these long-term variations. The suggested approach is to take each bootstrap sample (or other\n",
      "methodology) based on samples which take a continuous piece of the data (e.g. one continuous period at a\n",
      "time), and the randomness is achieved by randomly shifting the starting point of the sample. What is the\n",
      "minimum period duration you should consider?\n"
     ]
    }
   ],
   "source": [
    "print(\"Fitting the environmental uncertainty variable 𝑋𝑊:\")\n",
    "print(\"Did you try bootstrapping directly on the data? What did you notice? The uncertainty likely depends on the\")\n",
    "print(\"bootstrap sample size (how many points you use in each bootstrap sample). In order to determine the right\") \n",
    "print(\"bootstrap sample size, we should consider what the wind speed has certain long variation cycles (diurnal,\") \n",
    "print(\"seasonal), hence shuffling the data may not be the most realistic way to determine the uncertainty as it\") \n",
    "print(\"eliminates these long-term variations. The suggested approach is to take each bootstrap sample (or other\") \n",
    "print(\"methodology) based on samples which take a continuous piece of the data (e.g. one continuous period at a\") \n",
    "print(\"time), and the randomness is achieved by randomly shifting the starting point of the sample. What is the\") \n",
    "print(\"minimum period duration you should consider?\")"
   ]
  },
  {
   "cell_type": "code",
   "execution_count": 52,
   "id": "46e7c2da",
   "metadata": {},
   "outputs": [
    {
     "name": "stdout",
     "output_type": "stream",
     "text": [
      "Yearsample =  235190\n",
      "Winddata_1_year =             Timestamp      Wsp      TI  TI,detrend   MeanDir  MeanTrigDir  \\\n",
      "240937  2.009072e+11  10.3833  0.0917      0.0915  273.5224     273.5214   \n",
      "240938  2.009072e+11  11.0953  0.0829      0.0757  275.1803     275.1817   \n",
      "240939  2.009072e+11  11.0762  0.0641      0.0619  275.4089     275.4072   \n",
      "240940  2.009072e+11  10.0954  0.1170      0.1154  275.9748     275.9758   \n",
      "240941  2.009072e+11  11.0634  0.0540      0.0538  276.4636     276.4631   \n",
      "...              ...      ...     ...         ...       ...          ...   \n",
      "296651  2.010083e+11   5.2231  0.0986      0.0864  263.8059     263.7780   \n",
      "296652  2.010083e+11   5.3019  0.1073      0.1071  269.2499     269.2486   \n",
      "296653  2.010083e+11   4.8268  0.1047      0.1034  264.7629     264.7694   \n",
      "296654  2.010083e+11   5.0579  0.1100      0.0847  267.1600     267.1597   \n",
      "296655  2.010083e+11   7.5518  0.0836      0.0829  257.3909     257.3903   \n",
      "\n",
      "        StdDir   MinDir   MaxDir  \n",
      "240937  4.1634  259.526  291.494  \n",
      "240938  3.0464  262.565  284.805  \n",
      "240939  4.9121  263.140  292.418  \n",
      "240940  4.4811  257.168  290.030  \n",
      "240941  3.1478  265.123  289.125  \n",
      "...        ...      ...      ...  \n",
      "296651  6.8814  247.867  292.629  \n",
      "296652  6.0812  243.459  291.004  \n",
      "296653  5.2729  244.078  279.484  \n",
      "296654  5.6980  250.862  289.280  \n",
      "296655  4.2121  243.130  274.967  \n",
      "\n",
      "[52560 rows x 9 columns]\n",
      "========================================================\n",
      "Starting Bootstrap...\n",
      "i =  0\n",
      "i =  1\n",
      "i =  2\n",
      "i =  3\n",
      "i =  4\n",
      "i =  5\n",
      "i =  6\n",
      "i =  7\n",
      "i =  8\n",
      "i =  9\n",
      "i =  10\n",
      "i =  11\n",
      "i =  12\n",
      "i =  13\n",
      "i =  14\n",
      "i =  15\n",
      "i =  16\n",
      "i =  17\n",
      "i =  18\n",
      "i =  19\n",
      "i =  20\n",
      "i =  21\n",
      "i =  22\n",
      "i =  23\n",
      "i =  24\n",
      "i =  25\n",
      "i =  26\n",
      "i =  27\n",
      "i =  28\n",
      "i =  29\n",
      "i =  30\n",
      "i =  31\n",
      "i =  32\n",
      "i =  33\n",
      "i =  34\n",
      "i =  35\n",
      "i =  36\n",
      "i =  37\n",
      "i =  38\n",
      "i =  39\n",
      "i =  40\n",
      "i =  41\n",
      "i =  42\n",
      "i =  43\n",
      "i =  44\n",
      "i =  45\n",
      "i =  46\n",
      "i =  47\n",
      "i =  48\n",
      "i =  49\n",
      "i =  50\n",
      "i =  51\n",
      "i =  52\n",
      "i =  53\n",
      "i =  54\n",
      "i =  55\n",
      "i =  56\n",
      "i =  57\n",
      "i =  58\n",
      "i =  59\n",
      "i =  60\n",
      "i =  61\n",
      "i =  62\n",
      "i =  63\n",
      "i =  64\n",
      "i =  65\n",
      "i =  66\n",
      "i =  67\n",
      "i =  68\n",
      "i =  69\n",
      "i =  70\n",
      "i =  71\n",
      "i =  72\n",
      "i =  73\n",
      "i =  74\n",
      "i =  75\n",
      "i =  76\n",
      "i =  77\n",
      "i =  78\n",
      "i =  79\n",
      "i =  80\n",
      "i =  81\n",
      "i =  82\n",
      "i =  83\n",
      "i =  84\n",
      "i =  85\n",
      "i =  86\n",
      "i =  87\n",
      "i =  88\n",
      "i =  89\n",
      "i =  90\n",
      "i =  91\n",
      "i =  92\n",
      "i =  93\n",
      "i =  94\n",
      "i =  95\n",
      "i =  96\n",
      "i =  97\n",
      "i =  98\n",
      "i =  99\n",
      "DONE!!\n",
      "Confidence interval based on bootstrapping: [8.515690633561645, 8.592973418949772]\n"
     ]
    }
   ],
   "source": [
    "Nbootstrap = 100 #99999  # How many times you wanna do this random act\n",
    "#BootstrapSize = len(U)\n",
    "#BootstrapMeans = np.mean(U)\n",
    "\n",
    "N1year = int(1*365*24*6) # taking an interval for 1 year with 365 days with 24 hours with 6 times 10 minute intervals\n",
    "\n",
    "\n",
    "#for i in range(N1year): # you take the range of this 1 year\n",
    "    \n",
    "# here you take a random sample and then use that sample to locate the next year\n",
    "Yearsample = np.random.randint(low = 0, high = len(WindData) - N1year) #, size = (Nbootstrap,BootstrapSize))\n",
    "\n",
    "print(\"Yearsample = \", Yearsample)\n",
    "\n",
    "Winddata_1_year = WindData[Yearsample:Yearsample + N1year]\n",
    "print(\"Winddata_1_year = \", Winddata_1_year)\n",
    "\n",
    "#Bsample = np.random.randint(low = 0, high = 8, size = (Nbootstrap,BootstrapSize))\n",
    "#Bsample = np.random.randint(low = 0, high = len(WindData) - N1year)\n",
    "\n",
    "BootstrapSize = len(Winddata_1_year)\n",
    "\n",
    "# now select the year in which we do the bootstrapping\n",
    "BootstrapSample = np.zeros((Nbootstrap,BootstrapSize))\n",
    "\n",
    "# now do bootstrapping over the chosen year\n",
    "#for j in range(Nbootstrap):\n",
    "#    # Extract a bootstrap sample using the indices from Bsample\n",
    "#    bootstrap_indices = Bsample[j] + np.arange(BootstrapSize)\n",
    "#    BootstrapSample[j, :] = Winddata[bootstrap_indices]\n",
    "print(\"========================================================\")\n",
    "print(\"Starting Bootstrap...\")\n",
    "for i in range(Nbootstrap):\n",
    "    print(\"i = \", i)\n",
    "    for j in range(BootstrapSize):\n",
    "        ##print(\"Winddata_1_year['Timestamp'].idxmin() = \",Winddata_1_year['Timestamp'].idxmin())\n",
    "        ##print(\"Winddata_1_year['Timestamp'].idxmax() = \",Winddata_1_year['Timestamp'].idxmax())\n",
    "        #Bsample = np.random.randint(low = Winddata_1_year['Timestamp'].idxmin(), high =Winddata_1_year['Timestamp'].idxmax())\n",
    "        #print(\"Bsample = \",Bsample)\n",
    "        \n",
    "                # Initialize Bsample to be outside the valid range\n",
    "        Bsample = np.random.randint(low = Winddata_1_year['Timestamp'].idxmin(), high =Winddata_1_year['Timestamp'].idxmax())\n",
    "        #Bsample = -1\n",
    "        \n",
    "        # Keep generating a new random sample until it's a valid index\n",
    "        while Bsample not in Winddata_1_year.index:\n",
    "            #print(\"Wrong sample, i = \",i,\", j = \", j)\n",
    "            Bsample = np.random.randint(low=Winddata_1_year['Timestamp'].idxmin(), high=Winddata_1_year['Timestamp'].idxmax())\n",
    "        \n",
    "        ##print(\"Bsample =\", Bsample)\n",
    "        \n",
    "        #print(\"Winddata_1_year = \", Winddata_1_year)\n",
    "        #print(Winddata_1_year['Wsp', index = Bsample])\n",
    "        #print(Winddata_1_year)\n",
    "        #print(Winddata_1_year[Winddata_1_year['Timestamp'].idxmax()])\n",
    "        ##print(\"Winddata_1_year.loc[Bsample, 'Wsp'] = \", Winddata_1_year.loc[Bsample, 'Wsp'])\n",
    "        BootstrapSample[i,j] = Winddata_1_year.loc[Bsample, 'Wsp'] #Winddata_1_year['Wsp', index = Bsample]\n",
    "\n",
    "print(\"DONE!!\")\n",
    "# repeat this process\n",
    "\n",
    "#BootstrapSample[i,j] = U[Bsample[i,j]]\n",
    "        \n",
    "#BootstrapSample = \n",
    "\n",
    "BootstrapMeans = np.mean(BootstrapSample, axis=1)\n",
    "BootstrapMeans = np.sort(BootstrapMeans)\n",
    "\n",
    "Rlow = int((Nbootstrap+1) * (alpha/2) )\n",
    "Rhigh = int((Nbootstrap+1) * (1-alpha/2))\n",
    "\n",
    "CIn_B = BootstrapMeans[Rlow]\n",
    "CIp_B = BootstrapMeans[Rhigh]\n",
    "\n",
    "print('Confidence interval based on bootstrapping: [' + str(CIn_B) + ', ' + str(CIp_B) + ']')"
   ]
  },
  {
   "cell_type": "code",
   "execution_count": 18,
   "id": "25ff83f5",
   "metadata": {},
   "outputs": [
    {
     "name": "stdout",
     "output_type": "stream",
     "text": [
      "           Timestamp     Wsp      TI  TI,detrend   MeanDir  MeanTrigDir  \\\n",
      "179862  200805020840  2.2792  0.0000      0.0000  189.0960     189.0960   \n",
      "179863  200805020850  2.2792  0.0000      0.0000  189.0960     189.0960   \n",
      "179864  200805020900  2.2792  0.0000      0.0000  189.0960     189.0960   \n",
      "179865  200805020910  2.2792  0.0000      0.0000  189.0960     189.0960   \n",
      "179866  200805020920  2.2792  0.0000      0.0000  189.0960     189.0960   \n",
      "...              ...     ...     ...         ...       ...          ...   \n",
      "232420  200905191830  5.1148  0.0797      0.0757  186.3581     186.3531   \n",
      "232421  200905191840  5.4851  0.0696      0.0660  186.7520     186.7519   \n",
      "232422  200905191850  5.2665  0.0650      0.0604  184.2120     184.2107   \n",
      "232423  200905191900  5.0801  0.0609      0.0556  187.5387     187.5462   \n",
      "232424  200905191910  5.7974  0.0835      0.0555  200.4931     200.4940   \n",
      "\n",
      "        StdDir   MinDir   MaxDir  \n",
      "179862  0.0000  189.096  189.096  \n",
      "179863  0.0000  189.096  189.096  \n",
      "179864  0.0000  189.096  189.096  \n",
      "179865  0.0000  189.096  189.096  \n",
      "179866  0.0000  189.096  189.096  \n",
      "...        ...      ...      ...  \n",
      "232420  5.5512  173.071  208.538  \n",
      "232421  4.2480  171.248  200.151  \n",
      "232422  4.1889  170.908  199.702  \n",
      "232423  6.3685  166.019  201.171  \n",
      "232424  3.6319  188.214  212.315  \n",
      "\n",
      "[52560 rows x 9 columns]\n"
     ]
    }
   ],
   "source": [
    "print(Winddata_1_year)"
   ]
  },
  {
   "cell_type": "code",
   "execution_count": 53,
   "id": "ff0032b6",
   "metadata": {},
   "outputs": [
    {
     "name": "stdout",
     "output_type": "stream",
     "text": [
      "Confidence interval based on the Normal distribution: [8.825275882420442, 8.852564066299418]\n"
     ]
    }
   ],
   "source": [
    "# Confidence intervals using directly the Standard Normal distribution\n",
    "k_alpha = stats.norm.ppf(alpha/2)\n",
    "k_alpha_p = - stats.norm.ppf(1-alpha/2)\n",
    "\n",
    "CIn_N = Umean + k_alpha * (Ustd/(np.sqrt(n)))\n",
    "CIp_N = Umean - k_alpha * (Ustd/(np.sqrt(n)))\n",
    "\n",
    "print('Confidence interval based on the Normal distribution: [' + str(CIn_N) + ', ' + str(CIp_N) + ']')"
   ]
  },
  {
   "cell_type": "code",
   "execution_count": 54,
   "id": "b79e2dd5",
   "metadata": {},
   "outputs": [
    {
     "ename": "ValueError",
     "evalue": "The number of FixedLocator locations (3), usually from a call to set_ticks, does not match the number of labels (2).",
     "output_type": "error",
     "traceback": [
      "\u001b[1;31m---------------------------------------------------------------------------\u001b[0m",
      "\u001b[1;31mValueError\u001b[0m                                Traceback (most recent call last)",
      "Cell \u001b[1;32mIn[54], line 8\u001b[0m\n\u001b[0;32m      6\u001b[0m ax0\u001b[38;5;241m.\u001b[39mset_xlim([\u001b[38;5;241m0.5\u001b[39m,\u001b[38;5;241m3.5\u001b[39m])\n\u001b[0;32m      7\u001b[0m ax0\u001b[38;5;241m.\u001b[39mset_xticks([\u001b[38;5;241m1\u001b[39m,\u001b[38;5;241m2\u001b[39m,\u001b[38;5;241m3\u001b[39m])\n\u001b[1;32m----> 8\u001b[0m ax0\u001b[38;5;241m.\u001b[39mset_xticklabels([\u001b[38;5;124m'\u001b[39m\u001b[38;5;124mNormal dist.\u001b[39m\u001b[38;5;124m'\u001b[39m,\u001b[38;5;124m'\u001b[39m\u001b[38;5;124mBootstrapping\u001b[39m\u001b[38;5;124m'\u001b[39m])\n\u001b[0;32m      9\u001b[0m ax0\u001b[38;5;241m.\u001b[39mset_ylabel(\u001b[38;5;124m'\u001b[39m\u001b[38;5;124mAnnual mean wind speed [m/s]\u001b[39m\u001b[38;5;124m'\u001b[39m)\n\u001b[0;32m     10\u001b[0m plt\u001b[38;5;241m.\u001b[39mshow()\n",
      "File \u001b[1;32m~\\anaconda3\\envs\\dtu_env\\Lib\\site-packages\\matplotlib\\axes\\_base.py:74\u001b[0m, in \u001b[0;36m_axis_method_wrapper.__set_name__.<locals>.wrapper\u001b[1;34m(self, *args, **kwargs)\u001b[0m\n\u001b[0;32m     73\u001b[0m \u001b[38;5;28;01mdef\u001b[39;00m \u001b[38;5;21mwrapper\u001b[39m(\u001b[38;5;28mself\u001b[39m, \u001b[38;5;241m*\u001b[39margs, \u001b[38;5;241m*\u001b[39m\u001b[38;5;241m*\u001b[39mkwargs):\n\u001b[1;32m---> 74\u001b[0m     \u001b[38;5;28;01mreturn\u001b[39;00m get_method(\u001b[38;5;28mself\u001b[39m)(\u001b[38;5;241m*\u001b[39margs, \u001b[38;5;241m*\u001b[39m\u001b[38;5;241m*\u001b[39mkwargs)\n",
      "File \u001b[1;32m~\\anaconda3\\envs\\dtu_env\\Lib\\site-packages\\matplotlib\\_api\\deprecation.py:297\u001b[0m, in \u001b[0;36mrename_parameter.<locals>.wrapper\u001b[1;34m(*args, **kwargs)\u001b[0m\n\u001b[0;32m    292\u001b[0m     warn_deprecated(\n\u001b[0;32m    293\u001b[0m         since, message\u001b[38;5;241m=\u001b[39m\u001b[38;5;124mf\u001b[39m\u001b[38;5;124m\"\u001b[39m\u001b[38;5;124mThe \u001b[39m\u001b[38;5;132;01m{\u001b[39;00mold\u001b[38;5;132;01m!r}\u001b[39;00m\u001b[38;5;124m parameter of \u001b[39m\u001b[38;5;132;01m{\u001b[39;00mfunc\u001b[38;5;241m.\u001b[39m\u001b[38;5;18m__name__\u001b[39m\u001b[38;5;132;01m}\u001b[39;00m\u001b[38;5;124m() \u001b[39m\u001b[38;5;124m\"\u001b[39m\n\u001b[0;32m    294\u001b[0m         \u001b[38;5;124mf\u001b[39m\u001b[38;5;124m\"\u001b[39m\u001b[38;5;124mhas been renamed \u001b[39m\u001b[38;5;132;01m{\u001b[39;00mnew\u001b[38;5;132;01m!r}\u001b[39;00m\u001b[38;5;124m since Matplotlib \u001b[39m\u001b[38;5;132;01m{\u001b[39;00msince\u001b[38;5;132;01m}\u001b[39;00m\u001b[38;5;124m; support \u001b[39m\u001b[38;5;124m\"\u001b[39m\n\u001b[0;32m    295\u001b[0m         \u001b[38;5;124mf\u001b[39m\u001b[38;5;124m\"\u001b[39m\u001b[38;5;124mfor the old name will be dropped %(removal)s.\u001b[39m\u001b[38;5;124m\"\u001b[39m)\n\u001b[0;32m    296\u001b[0m     kwargs[new] \u001b[38;5;241m=\u001b[39m kwargs\u001b[38;5;241m.\u001b[39mpop(old)\n\u001b[1;32m--> 297\u001b[0m \u001b[38;5;28;01mreturn\u001b[39;00m func(\u001b[38;5;241m*\u001b[39margs, \u001b[38;5;241m*\u001b[39m\u001b[38;5;241m*\u001b[39mkwargs)\n",
      "File \u001b[1;32m~\\anaconda3\\envs\\dtu_env\\Lib\\site-packages\\matplotlib\\axis.py:1969\u001b[0m, in \u001b[0;36mAxis.set_ticklabels\u001b[1;34m(self, labels, minor, fontdict, **kwargs)\u001b[0m\n\u001b[0;32m   1965\u001b[0m \u001b[38;5;28;01mif\u001b[39;00m \u001b[38;5;28misinstance\u001b[39m(locator, mticker\u001b[38;5;241m.\u001b[39mFixedLocator):\n\u001b[0;32m   1966\u001b[0m     \u001b[38;5;66;03m# Passing [] as a list of labels is often used as a way to\u001b[39;00m\n\u001b[0;32m   1967\u001b[0m     \u001b[38;5;66;03m# remove all tick labels, so only error for > 0 labels\u001b[39;00m\n\u001b[0;32m   1968\u001b[0m     \u001b[38;5;28;01mif\u001b[39;00m \u001b[38;5;28mlen\u001b[39m(locator\u001b[38;5;241m.\u001b[39mlocs) \u001b[38;5;241m!=\u001b[39m \u001b[38;5;28mlen\u001b[39m(labels) \u001b[38;5;129;01mand\u001b[39;00m \u001b[38;5;28mlen\u001b[39m(labels) \u001b[38;5;241m!=\u001b[39m \u001b[38;5;241m0\u001b[39m:\n\u001b[1;32m-> 1969\u001b[0m         \u001b[38;5;28;01mraise\u001b[39;00m \u001b[38;5;167;01mValueError\u001b[39;00m(\n\u001b[0;32m   1970\u001b[0m             \u001b[38;5;124m\"\u001b[39m\u001b[38;5;124mThe number of FixedLocator locations\u001b[39m\u001b[38;5;124m\"\u001b[39m\n\u001b[0;32m   1971\u001b[0m             \u001b[38;5;124mf\u001b[39m\u001b[38;5;124m\"\u001b[39m\u001b[38;5;124m (\u001b[39m\u001b[38;5;132;01m{\u001b[39;00m\u001b[38;5;28mlen\u001b[39m(locator\u001b[38;5;241m.\u001b[39mlocs)\u001b[38;5;132;01m}\u001b[39;00m\u001b[38;5;124m), usually from a call to\u001b[39m\u001b[38;5;124m\"\u001b[39m\n\u001b[0;32m   1972\u001b[0m             \u001b[38;5;124m\"\u001b[39m\u001b[38;5;124m set_ticks, does not match\u001b[39m\u001b[38;5;124m\"\u001b[39m\n\u001b[0;32m   1973\u001b[0m             \u001b[38;5;124mf\u001b[39m\u001b[38;5;124m\"\u001b[39m\u001b[38;5;124m the number of labels (\u001b[39m\u001b[38;5;132;01m{\u001b[39;00m\u001b[38;5;28mlen\u001b[39m(labels)\u001b[38;5;132;01m}\u001b[39;00m\u001b[38;5;124m).\u001b[39m\u001b[38;5;124m\"\u001b[39m)\n\u001b[0;32m   1974\u001b[0m     tickd \u001b[38;5;241m=\u001b[39m {loc: lab \u001b[38;5;28;01mfor\u001b[39;00m loc, lab \u001b[38;5;129;01min\u001b[39;00m \u001b[38;5;28mzip\u001b[39m(locator\u001b[38;5;241m.\u001b[39mlocs, labels)}\n\u001b[0;32m   1975\u001b[0m     func \u001b[38;5;241m=\u001b[39m functools\u001b[38;5;241m.\u001b[39mpartial(\u001b[38;5;28mself\u001b[39m\u001b[38;5;241m.\u001b[39m_format_with_dict, tickd)\n",
      "\u001b[1;31mValueError\u001b[0m: The number of FixedLocator locations (3), usually from a call to set_ticks, does not match the number of labels (2)."
     ]
    },
    {
     "data": {
      "image/png": "[encoded data removed]",
      "text/plain": [
       "<Figure size 640x480 with 1 Axes>"
      ]
     },
     "metadata": {},
     "output_type": "display_data"
    }
   ],
   "source": [
    "# Plot errorbars\n",
    "fig0, ax0 = plt.subplots()\n",
    "ax0.errorbar([1, 2], [Umean, np.mean(BootstrapMeans)],\n",
    "             yerr = [(CIp_N - CIn_N), (CIp_B - CIn_B)],\n",
    "            linestyle = '',marker = 'o',capsize = 5)\n",
    "ax0.set_xlim([0.5,3.5])\n",
    "ax0.set_xticks([1,2,3])\n",
    "ax0.set_xticklabels(['Normal dist.','Bootstrapping'])\n",
    "ax0.set_ylabel('Annual mean wind speed [m/s]')\n",
    "plt.show()"
   ]
  },
  {
   "cell_type": "code",
   "execution_count": 11,
   "id": "a6e97482",
   "metadata": {},
   "outputs": [
    {
     "data": {
      "image/png": "[encoded data removed]",
      "text/plain": [
       "<Figure size 640x480 with 1 Axes>"
      ]
     },
     "metadata": {},
     "output_type": "display_data"
    }
   ],
   "source": [
    "# Plot pdfs\n",
    "\n",
    "Ubins = np.linspace(8.5,12,100)\n",
    "\n",
    "pdf_N = stats.norm.pdf(Ubins,Umean,Ustd/np.sqrt(n))\n",
    "dU = Ubins[1]-Ubins[0] # Scaling factor for the t-pdf to make sure we get a valid pdf for every bin spacing\n",
    "pdf_T = (1/np.sqrt(dU))*stats.t.pdf((Ubins - Umean)/(Ustd/np.sqrt(n)), n - 1)\n",
    "\n",
    "# Generating an empirical pdf from the bootstrap sample\n",
    "BootstrapHist = np.histogram(BootstrapMeans,bins = Ubins)\n",
    "BootstrapDist = stats.rv_histogram(BootstrapHist)\n",
    "pdf_B = BootstrapDist.pdf(Ubins)\n",
    "\n",
    "fig1, ax1 = plt.subplots()\n",
    "p11 = ax1.plot(Ubins,pdf_N,'--r', label = 'Normal')\n",
    "p12 = ax1.plot(Ubins,pdf_B,'-b', label = 'Bootstrapping')\n",
    "plt.xlabel('Annual mean wind speed [m/s]')\n",
    "plt.ylabel('Probability density')\n",
    "plt.legend()\n",
    "\n",
    "plt.show()"
   ]
  },
  {
   "cell_type": "code",
   "execution_count": null,
   "id": "29738d7a",
   "metadata": {},
   "outputs": [],
   "source": []
  }
 ],
 "metadata": {
  "kernelspec": {
   "display_name": "Python 3 (ipykernel)",
   "language": "python",
   "name": "python3"
  },
  "language_info": {
   "codemirror_mode": {
    "name": "ipython",
    "version": 3
   },
   "file_extension": ".py",
   "mimetype": "text/x-python",
   "name": "python",
   "nbconvert_exporter": "python",
   "pygments_lexer": "ipython3",
   "version": "3.11.4"
  }
 },
 "nbformat": 4,
 "nbformat_minor": 5
}
