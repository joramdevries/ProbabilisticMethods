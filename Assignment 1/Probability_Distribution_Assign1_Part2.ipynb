{
 "cells": [
  {
   "cell_type": "code",
   "execution_count": 1,
   "id": "2b474b56",
   "metadata": {},
   "outputs": [],
   "source": [
    "import numpy as np\n",
    "import pandas as pd\n",
    "import scipy.stats as stats\n",
    "import scipy\n",
    "import matplotlib.pyplot as plt\n",
    "import sklearn\n",
    "import sklearn.neural_network"
   ]
  },
  {
   "cell_type": "code",
   "execution_count": 2,
   "id": "9ecab0b3",
   "metadata": {},
   "outputs": [],
   "source": [
    "WindData = pd.read_csv('HovsoreData_Sonic_100m_2004-2013.csv')"
   ]
  },
  {
   "cell_type": "code",
   "execution_count": 3,
   "id": "d5019159",
   "metadata": {},
   "outputs": [],
   "source": [
    "# Filter rows where 'Wsp' is less than or equal to 35 m/s\n",
    "filtered_WindData = WindData[WindData['Wsp'] <= 35]\n",
    "\n",
    "# Save the filtered data to a new CSV file\n",
    "filtered_csv_file = 'FilteredWindData.csv'\n",
    "filtered_WindData.to_csv(filtered_csv_file, index=False)\n",
    "\n",
    "WindData = filtered_WindData"
   ]
  },
  {
   "cell_type": "code",
   "execution_count": 4,
   "id": "7e3091db",
   "metadata": {},
   "outputs": [],
   "source": [
    "U = WindData['Wsp']"
   ]
  },
  {
   "cell_type": "code",
   "execution_count": 15,
   "id": "1f59cc30",
   "metadata": {},
   "outputs": [
    {
     "name": "stdout",
     "output_type": "stream",
     "text": [
      "Umean =  8.70904994116735\n",
      "Ustd =  4.6725396044756895\n",
      "n =  438532\n"
     ]
    }
   ],
   "source": [
    "Umean = np.mean(U)\n",
    "Ustd = np.std(U)\n",
    "\n",
    "n = len(U) # Count the number of samples\n",
    "\n",
    "\n",
    "print(\"Umean = \", Umean)\n",
    "print(\"Ustd = \", Ustd)\n",
    "print(\"n = \", n)"
   ]
  },
  {
   "cell_type": "code",
   "execution_count": 7,
   "id": "2e9372ce",
   "metadata": {},
   "outputs": [],
   "source": [
    "alpha =  1 - 0.95# Corresponding to 95% probability  ( alpha = 1-p)"
   ]
  },
  {
   "cell_type": "code",
   "execution_count": 21,
   "id": "0b319fdb",
   "metadata": {},
   "outputs": [
    {
     "name": "stdout",
     "output_type": "stream",
     "text": [
      "Confidence interval based on bootstrapping: [10.09898043859969, 10.101488427298353]\n"
     ]
    }
   ],
   "source": [
    "Nbootstrap = 1000 #99999\n",
    "BootstrapSize = len(U)\n",
    "\n",
    "Bsample = np.random.randint(low = 0, high = 8, size = (Nbootstrap,BootstrapSize))\n",
    "BootstrapSample = np.zeros((Nbootstrap,BootstrapSize))\n",
    "for i in range(Nbootstrap):\n",
    "    for j in range(BootstrapSize):\n",
    "        BootstrapSample[i,j] = U[Bsample[i,j]]\n",
    "        \n",
    "#BootstrapSample = \n",
    "\n",
    "BootstrapMeans = np.mean(BootstrapSample, axis=1)\n",
    "BootstrapMeans = np.sort(BootstrapMeans)\n",
    "\n",
    "Rlow = int((Nbootstrap+1) * (alpha/2) )\n",
    "Rhigh = int((Nbootstrap+1) * (1-alpha/2))\n",
    "\n",
    "CIn_B = BootstrapMeans[Rlow]\n",
    "CIp_B = BootstrapMeans[Rhigh]\n",
    "\n",
    "print('Confidence interval based on bootstrapping: [' + str(CIn_B) + ', ' + str(CIp_B) + ']')"
   ]
  },
  {
   "cell_type": "code",
   "execution_count": 17,
   "id": "ff0032b6",
   "metadata": {},
   "outputs": [
    {
     "name": "stdout",
     "output_type": "stream",
     "text": [
      "Confidence interval based on the Normal distribution: [8.695220633542869, 8.722879248791832]\n"
     ]
    }
   ],
   "source": [
    "# Confidence intervals using directly the Standard Normal distribution\n",
    "k_alpha = stats.norm.ppf(alpha/2)\n",
    "k_alpha_p = - stats.norm.ppf(1-alpha/2)\n",
    "\n",
    "CIn_N = Umean + k_alpha * (Ustd/(np.sqrt(n)))\n",
    "CIp_N = Umean - k_alpha * (Ustd/(np.sqrt(n)))\n",
    "\n",
    "print('Confidence interval based on the Normal distribution: [' + str(CIn_N) + ', ' + str(CIp_N) + ']')"
   ]
  },
  {
   "cell_type": "code",
   "execution_count": 19,
   "id": "b79e2dd5",
   "metadata": {},
   "outputs": [
    {
     "ename": "ValueError",
     "evalue": "The number of FixedLocator locations (3), usually from a call to set_ticks, does not match the number of labels (2).",
     "output_type": "error",
     "traceback": [
      "\u001b[1;31m---------------------------------------------------------------------------\u001b[0m",
      "\u001b[1;31mValueError\u001b[0m                                Traceback (most recent call last)",
      "Cell \u001b[1;32mIn[19], line 8\u001b[0m\n\u001b[0;32m      6\u001b[0m ax0\u001b[38;5;241m.\u001b[39mset_xlim([\u001b[38;5;241m0.5\u001b[39m,\u001b[38;5;241m3.5\u001b[39m])\n\u001b[0;32m      7\u001b[0m ax0\u001b[38;5;241m.\u001b[39mset_xticks([\u001b[38;5;241m1\u001b[39m,\u001b[38;5;241m2\u001b[39m,\u001b[38;5;241m3\u001b[39m])\n\u001b[1;32m----> 8\u001b[0m ax0\u001b[38;5;241m.\u001b[39mset_xticklabels([\u001b[38;5;124m'\u001b[39m\u001b[38;5;124mNormal dist.\u001b[39m\u001b[38;5;124m'\u001b[39m,\u001b[38;5;124m'\u001b[39m\u001b[38;5;124mBootstrapping\u001b[39m\u001b[38;5;124m'\u001b[39m])\n\u001b[0;32m      9\u001b[0m ax0\u001b[38;5;241m.\u001b[39mset_ylabel(\u001b[38;5;124m'\u001b[39m\u001b[38;5;124mAnnual mean wind speed [m/s]\u001b[39m\u001b[38;5;124m'\u001b[39m)\n\u001b[0;32m     10\u001b[0m plt\u001b[38;5;241m.\u001b[39mshow()\n",
      "File \u001b[1;32m~\\anaconda3\\envs\\dtu_env\\Lib\\site-packages\\matplotlib\\axes\\_base.py:74\u001b[0m, in \u001b[0;36m_axis_method_wrapper.__set_name__.<locals>.wrapper\u001b[1;34m(self, *args, **kwargs)\u001b[0m\n\u001b[0;32m     73\u001b[0m \u001b[38;5;28;01mdef\u001b[39;00m \u001b[38;5;21mwrapper\u001b[39m(\u001b[38;5;28mself\u001b[39m, \u001b[38;5;241m*\u001b[39margs, \u001b[38;5;241m*\u001b[39m\u001b[38;5;241m*\u001b[39mkwargs):\n\u001b[1;32m---> 74\u001b[0m     \u001b[38;5;28;01mreturn\u001b[39;00m get_method(\u001b[38;5;28mself\u001b[39m)(\u001b[38;5;241m*\u001b[39margs, \u001b[38;5;241m*\u001b[39m\u001b[38;5;241m*\u001b[39mkwargs)\n",
      "File \u001b[1;32m~\\anaconda3\\envs\\dtu_env\\Lib\\site-packages\\matplotlib\\_api\\deprecation.py:297\u001b[0m, in \u001b[0;36mrename_parameter.<locals>.wrapper\u001b[1;34m(*args, **kwargs)\u001b[0m\n\u001b[0;32m    292\u001b[0m     warn_deprecated(\n\u001b[0;32m    293\u001b[0m         since, message\u001b[38;5;241m=\u001b[39m\u001b[38;5;124mf\u001b[39m\u001b[38;5;124m\"\u001b[39m\u001b[38;5;124mThe \u001b[39m\u001b[38;5;132;01m{\u001b[39;00mold\u001b[38;5;132;01m!r}\u001b[39;00m\u001b[38;5;124m parameter of \u001b[39m\u001b[38;5;132;01m{\u001b[39;00mfunc\u001b[38;5;241m.\u001b[39m\u001b[38;5;18m__name__\u001b[39m\u001b[38;5;132;01m}\u001b[39;00m\u001b[38;5;124m() \u001b[39m\u001b[38;5;124m\"\u001b[39m\n\u001b[0;32m    294\u001b[0m         \u001b[38;5;124mf\u001b[39m\u001b[38;5;124m\"\u001b[39m\u001b[38;5;124mhas been renamed \u001b[39m\u001b[38;5;132;01m{\u001b[39;00mnew\u001b[38;5;132;01m!r}\u001b[39;00m\u001b[38;5;124m since Matplotlib \u001b[39m\u001b[38;5;132;01m{\u001b[39;00msince\u001b[38;5;132;01m}\u001b[39;00m\u001b[38;5;124m; support \u001b[39m\u001b[38;5;124m\"\u001b[39m\n\u001b[0;32m    295\u001b[0m         \u001b[38;5;124mf\u001b[39m\u001b[38;5;124m\"\u001b[39m\u001b[38;5;124mfor the old name will be dropped %(removal)s.\u001b[39m\u001b[38;5;124m\"\u001b[39m)\n\u001b[0;32m    296\u001b[0m     kwargs[new] \u001b[38;5;241m=\u001b[39m kwargs\u001b[38;5;241m.\u001b[39mpop(old)\n\u001b[1;32m--> 297\u001b[0m \u001b[38;5;28;01mreturn\u001b[39;00m func(\u001b[38;5;241m*\u001b[39margs, \u001b[38;5;241m*\u001b[39m\u001b[38;5;241m*\u001b[39mkwargs)\n",
      "File \u001b[1;32m~\\anaconda3\\envs\\dtu_env\\Lib\\site-packages\\matplotlib\\axis.py:1969\u001b[0m, in \u001b[0;36mAxis.set_ticklabels\u001b[1;34m(self, labels, minor, fontdict, **kwargs)\u001b[0m\n\u001b[0;32m   1965\u001b[0m \u001b[38;5;28;01mif\u001b[39;00m \u001b[38;5;28misinstance\u001b[39m(locator, mticker\u001b[38;5;241m.\u001b[39mFixedLocator):\n\u001b[0;32m   1966\u001b[0m     \u001b[38;5;66;03m# Passing [] as a list of labels is often used as a way to\u001b[39;00m\n\u001b[0;32m   1967\u001b[0m     \u001b[38;5;66;03m# remove all tick labels, so only error for > 0 labels\u001b[39;00m\n\u001b[0;32m   1968\u001b[0m     \u001b[38;5;28;01mif\u001b[39;00m \u001b[38;5;28mlen\u001b[39m(locator\u001b[38;5;241m.\u001b[39mlocs) \u001b[38;5;241m!=\u001b[39m \u001b[38;5;28mlen\u001b[39m(labels) \u001b[38;5;129;01mand\u001b[39;00m \u001b[38;5;28mlen\u001b[39m(labels) \u001b[38;5;241m!=\u001b[39m \u001b[38;5;241m0\u001b[39m:\n\u001b[1;32m-> 1969\u001b[0m         \u001b[38;5;28;01mraise\u001b[39;00m \u001b[38;5;167;01mValueError\u001b[39;00m(\n\u001b[0;32m   1970\u001b[0m             \u001b[38;5;124m\"\u001b[39m\u001b[38;5;124mThe number of FixedLocator locations\u001b[39m\u001b[38;5;124m\"\u001b[39m\n\u001b[0;32m   1971\u001b[0m             \u001b[38;5;124mf\u001b[39m\u001b[38;5;124m\"\u001b[39m\u001b[38;5;124m (\u001b[39m\u001b[38;5;132;01m{\u001b[39;00m\u001b[38;5;28mlen\u001b[39m(locator\u001b[38;5;241m.\u001b[39mlocs)\u001b[38;5;132;01m}\u001b[39;00m\u001b[38;5;124m), usually from a call to\u001b[39m\u001b[38;5;124m\"\u001b[39m\n\u001b[0;32m   1972\u001b[0m             \u001b[38;5;124m\"\u001b[39m\u001b[38;5;124m set_ticks, does not match\u001b[39m\u001b[38;5;124m\"\u001b[39m\n\u001b[0;32m   1973\u001b[0m             \u001b[38;5;124mf\u001b[39m\u001b[38;5;124m\"\u001b[39m\u001b[38;5;124m the number of labels (\u001b[39m\u001b[38;5;132;01m{\u001b[39;00m\u001b[38;5;28mlen\u001b[39m(labels)\u001b[38;5;132;01m}\u001b[39;00m\u001b[38;5;124m).\u001b[39m\u001b[38;5;124m\"\u001b[39m)\n\u001b[0;32m   1974\u001b[0m     tickd \u001b[38;5;241m=\u001b[39m {loc: lab \u001b[38;5;28;01mfor\u001b[39;00m loc, lab \u001b[38;5;129;01min\u001b[39;00m \u001b[38;5;28mzip\u001b[39m(locator\u001b[38;5;241m.\u001b[39mlocs, labels)}\n\u001b[0;32m   1975\u001b[0m     func \u001b[38;5;241m=\u001b[39m functools\u001b[38;5;241m.\u001b[39mpartial(\u001b[38;5;28mself\u001b[39m\u001b[38;5;241m.\u001b[39m_format_with_dict, tickd)\n",
      "\u001b[1;31mValueError\u001b[0m: The number of FixedLocator locations (3), usually from a call to set_ticks, does not match the number of labels (2)."
     ]
    },
    {
     "data": {
      "image/png": "[encoded data removed]",
      "text/plain": [
       "<Figure size 640x480 with 1 Axes>"
      ]
     },
     "metadata": {},
     "output_type": "display_data"
    }
   ],
   "source": [
    "# Plot errorbars\n",
    "fig0, ax0 = plt.subplots()\n",
    "ax0.errorbar([1, 2], [Umean, np.mean(BootstrapMeans)],\n",
    "             yerr = [(CIp_N - CIn_N), (CIp_B - CIn_B)],\n",
    "            linestyle = '',marker = 'o',capsize = 5)\n",
    "ax0.set_xlim([0.5,3.5])\n",
    "ax0.set_xticks([1,2,3])\n",
    "ax0.set_xticklabels(['Normal dist.','Bootstrapping'])\n",
    "ax0.set_ylabel('Annual mean wind speed [m/s]')\n",
    "plt.show()"
   ]
  },
  {
   "cell_type": "code",
   "execution_count": 14,
   "id": "a6e97482",
   "metadata": {},
   "outputs": [
    {
     "data": {
      "image/png": "[encoded data removed]",
      "text/plain": [
       "<Figure size 640x480 with 1 Axes>"
      ]
     },
     "metadata": {},
     "output_type": "display_data"
    }
   ],
   "source": [
    "# Plot pdfs\n",
    "\n",
    "Ubins = np.linspace(8.5,12,100)\n",
    "\n",
    "pdf_N = stats.norm.pdf(Ubins,Umean,Ustd/np.sqrt(n))\n",
    "dU = Ubins[1]-Ubins[0] # Scaling factor for the t-pdf to make sure we get a valid pdf for every bin spacing\n",
    "pdf_T = (1/np.sqrt(dU))*stats.t.pdf((Ubins - Umean)/(Ustd/np.sqrt(n)), n - 1)\n",
    "\n",
    "# Generating an empirical pdf from the bootstrap sample\n",
    "BootstrapHist = np.histogram(BootstrapMeans,bins = Ubins)\n",
    "BootstrapDist = stats.rv_histogram(BootstrapHist)\n",
    "pdf_B = BootstrapDist.pdf(Ubins)\n",
    "\n",
    "fig1, ax1 = plt.subplots()\n",
    "p11 = ax1.plot(Ubins,pdf_N,'--r', label = 'Normal')\n",
    "p12 = ax1.plot(Ubins,pdf_B,'-b', label = 'Bootstrapping')\n",
    "plt.xlabel('Annual mean wind speed [m/s]')\n",
    "plt.ylabel('Probability density')\n",
    "plt.legend()\n",
    "\n",
    "plt.show()"
   ]
  },
  {
   "cell_type": "code",
   "execution_count": null,
   "id": "29738d7a",
   "metadata": {},
   "outputs": [],
   "source": []
  }
 ],
 "metadata": {
  "kernelspec": {
   "display_name": "Python 3 (ipykernel)",
   "language": "python",
   "name": "python3"
  },
  "language_info": {
   "codemirror_mode": {
    "name": "ipython",
    "version": 3
   },
   "file_extension": ".py",
   "mimetype": "text/x-python",
   "name": "python",
   "nbconvert_exporter": "python",
   "pygments_lexer": "ipython3",
   "version": "3.11.4"
  }
 },
 "nbformat": 4,
 "nbformat_minor": 5
}
