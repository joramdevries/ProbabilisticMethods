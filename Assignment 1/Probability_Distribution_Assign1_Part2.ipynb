{
 "cells": [
  {
   "cell_type": "code",
   "execution_count": 1,
   "id": "2b474b56",
   "metadata": {},
   "outputs": [],
   "source": [
    "import numpy as np\n",
    "import pandas as pd\n",
    "import scipy.stats as stats\n",
    "import scipy\n",
    "import matplotlib.pyplot as plt\n",
    "import sklearn\n",
    "import sklearn.neural_network"
   ]
  },
  {
   "cell_type": "code",
   "execution_count": 2,
   "id": "9ecab0b3",
   "metadata": {},
   "outputs": [],
   "source": [
    "WindData = pd.read_csv('HovsoreData_Sonic_100m_2004-2013.csv')"
   ]
  },
  {
   "cell_type": "code",
   "execution_count": 3,
   "id": "d5019159",
   "metadata": {},
   "outputs": [],
   "source": [
    "# Filter rows where 'Wsp' is less than or equal to 35 m/s\n",
    "filtered_WindData = WindData[WindData['Wsp'] <= 35]\n",
    "\n",
    "filtered_WindData.loc[filtered_WindData[\"TI\"] <= 0.001] = np.nan\n",
    "\n",
    "filtered_WindData = filtered_WindData.dropna()\n",
    "\n",
    "# Save the filtered data to a new CSV file\n",
    "filtered_csv_file = 'FilteredWindData.csv'\n",
    "filtered_WindData.to_csv(filtered_csv_file, index=False)\n",
    "\n",
    "WindData = filtered_WindData"
   ]
  },
  {
   "cell_type": "code",
   "execution_count": 4,
   "id": "7e3091db",
   "metadata": {},
   "outputs": [],
   "source": [
    "U = WindData['Wsp']"
   ]
  },
  {
   "cell_type": "code",
   "execution_count": 5,
   "id": "1f59cc30",
   "metadata": {},
   "outputs": [
    {
     "name": "stdout",
     "output_type": "stream",
     "text": [
      "Umean =  8.83891997435993\n",
      "Ustd =  4.563811841180505\n",
      "n =  429796\n"
     ]
    }
   ],
   "source": [
    "Umean = np.mean(U)\n",
    "Ustd = np.std(U)\n",
    "\n",
    "n = len(U) # Count the number of samples\n",
    "\n",
    "\n",
    "print(\"Umean = \", Umean)\n",
    "print(\"Ustd = \", Ustd)\n",
    "print(\"n = \", n)"
   ]
  },
  {
   "cell_type": "code",
   "execution_count": 6,
   "id": "2e9372ce",
   "metadata": {},
   "outputs": [],
   "source": [
    "alpha =  1 - 0.95# Corresponding to 95% probability  ( alpha = 1-p)"
   ]
  },
  {
   "cell_type": "code",
   "execution_count": 9,
   "id": "0b319fdb",
   "metadata": {},
   "outputs": [
    {
     "name": "stdout",
     "output_type": "stream",
     "text": [
      "Confidence interval based on bootstrapping: [10.098999220793122, 10.10116873097935]\n"
     ]
    }
   ],
   "source": [
    "Nbootstrap = 100 #99999\n",
    "BootstrapSize = len(U)\n",
    "\n",
    "Bsample = np.random.randint(low = 0, high = 8, size = (Nbootstrap,BootstrapSize))\n",
    "BootstrapSample = np.zeros((Nbootstrap,BootstrapSize))\n",
    "for i in range(Nbootstrap):\n",
    "    for j in range(BootstrapSize):\n",
    "        BootstrapSample[i,j] = U[Bsample[i,j]]\n",
    "        \n",
    "#BootstrapSample = \n",
    "\n",
    "BootstrapMeans = np.mean(BootstrapSample, axis=1)\n",
    "BootstrapMeans = np.sort(BootstrapMeans)\n",
    "\n",
    "Rlow = int((Nbootstrap+1) * (alpha/2) )\n",
    "Rhigh = int((Nbootstrap+1) * (1-alpha/2))\n",
    "\n",
    "CIn_B = BootstrapMeans[Rlow]\n",
    "CIp_B = BootstrapMeans[Rhigh]\n",
    "\n",
    "print('Confidence interval based on bootstrapping: [' + str(CIn_B) + ', ' + str(CIp_B) + ']')"
   ]
  },
  {
   "cell_type": "code",
   "execution_count": 7,
   "id": "ccf0e9f2",
   "metadata": {},
   "outputs": [
    {
     "name": "stdout",
     "output_type": "stream",
     "text": [
      "Fitting the environmental uncertainty variable 𝑋𝑊:\n",
      "Did you try bootstrapping directly on the data? What did you notice? The uncertainty likely depends on the\n",
      "bootstrap sample size (how many points you use in each bootstrap sample). In order to determine the right\n",
      "bootstrap sample size, we should consider what the wind speed has certain long variation cycles (diurnal,\n",
      "seasonal), hence shuffling the data may not be the most realistic way to determine the uncertainty as it\n",
      "eliminates these long-term variations. The suggested approach is to take each bootstrap sample (or other\n",
      "methodology) based on samples which take a continuous piece of the data (e.g. one continuous period at a\n",
      "time), and the randomness is achieved by randomly shifting the starting point of the sample. What is the\n",
      "minimum period duration you should consider?\n"
     ]
    }
   ],
   "source": [
    "print(\"Fitting the environmental uncertainty variable 𝑋𝑊:\")\n",
    "print(\"Did you try bootstrapping directly on the data? What did you notice? The uncertainty likely depends on the\")\n",
    "print(\"bootstrap sample size (how many points you use in each bootstrap sample). In order to determine the right\") \n",
    "print(\"bootstrap sample size, we should consider what the wind speed has certain long variation cycles (diurnal,\") \n",
    "print(\"seasonal), hence shuffling the data may not be the most realistic way to determine the uncertainty as it\") \n",
    "print(\"eliminates these long-term variations. The suggested approach is to take each bootstrap sample (or other\") \n",
    "print(\"methodology) based on samples which take a continuous piece of the data (e.g. one continuous period at a\") \n",
    "print(\"time), and the randomness is achieved by randomly shifting the starting point of the sample. What is the\") \n",
    "print(\"minimum period duration you should consider?\")"
   ]
  },
  {
   "cell_type": "code",
   "execution_count": 8,
   "id": "8c21c511",
   "metadata": {},
   "outputs": [],
   "source": [
    "from datetime import datetime\n"
   ]
  },
  {
   "cell_type": "code",
   "execution_count": 9,
   "id": "46e7c2da",
   "metadata": {},
   "outputs": [
    {
     "name": "stdout",
     "output_type": "stream",
     "text": [
      "Start of bootstrap:  14:42:14\n",
      "Yearsample =  270920\n",
      "Winddata_1_year =             Timestamp      Wsp      TI  TI,detrend   MeanDir  MeanTrigDir  \\\n",
      "279700  2.010050e+11  14.3218  0.0633      0.0632  304.4852     304.4854   \n",
      "279701  2.010050e+11  15.1758  0.0634      0.0624  305.8924     305.8926   \n",
      "279702  2.010050e+11  14.9213  0.0627      0.0627  307.7622     307.7623   \n",
      "279703  2.010050e+11  14.4853  0.0767      0.0666  307.5009     307.5002   \n",
      "279704  2.010050e+11  15.1571  0.0838      0.0754  307.3819     307.3823   \n",
      "...              ...      ...     ...         ...       ...          ...   \n",
      "332429  2.011052e+11  12.5430  0.0732      0.0693  244.7458     244.7456   \n",
      "332430  2.011052e+11  12.5577  0.0636      0.0625  245.3855     245.3855   \n",
      "332431  2.011052e+11  12.2527  0.0853      0.0851  247.5812     247.5813   \n",
      "332432  2.011052e+11  13.4554  0.0633      0.0633  250.7138     250.7144   \n",
      "332433  2.011052e+11  13.3471  0.0649      0.0626  250.4874     250.4874   \n",
      "\n",
      "        StdDir   MinDir   MaxDir  \n",
      "279700  3.4245  290.709  316.719  \n",
      "279701  3.6073  292.129  318.374  \n",
      "279702  2.9704  293.325  317.249  \n",
      "279703  2.9094  299.568  323.857  \n",
      "279704  3.6431  294.421  322.021  \n",
      "...        ...      ...      ...  \n",
      "332429  3.6021  232.718  258.210  \n",
      "332430  3.0308  230.257  257.800  \n",
      "332431  3.1414  236.428  257.914  \n",
      "332432  3.1133  237.091  264.632  \n",
      "332433  2.9974  240.033  260.303  \n",
      "\n",
      "[52560 rows x 9 columns]\n",
      "========================================================\n",
      "Starting Bootstrap...\n",
      "i =  0\n",
      "i =  1\n",
      "i =  2\n",
      "i =  3\n",
      "i =  4\n",
      "i =  5\n",
      "i =  6\n",
      "i =  7\n",
      "i =  8\n",
      "i =  9\n",
      "i =  10\n",
      "i =  11\n",
      "i =  12\n",
      "i =  13\n",
      "i =  14\n",
      "i =  15\n",
      "i =  16\n",
      "i =  17\n",
      "i =  18\n",
      "i =  19\n",
      "i =  20\n",
      "i =  21\n",
      "i =  22\n",
      "i =  23\n",
      "i =  24\n",
      "i =  25\n",
      "i =  26\n",
      "i =  27\n",
      "i =  28\n",
      "i =  29\n",
      "i =  30\n",
      "i =  31\n",
      "i =  32\n",
      "i =  33\n",
      "i =  34\n",
      "i =  35\n",
      "i =  36\n",
      "i =  37\n",
      "i =  38\n",
      "i =  39\n",
      "i =  40\n",
      "i =  41\n",
      "i =  42\n",
      "i =  43\n",
      "i =  44\n",
      "i =  45\n",
      "i =  46\n",
      "i =  47\n",
      "i =  48\n",
      "i =  49\n",
      "i =  50\n",
      "i =  51\n",
      "i =  52\n",
      "i =  53\n",
      "i =  54\n",
      "i =  55\n",
      "i =  56\n",
      "i =  57\n",
      "i =  58\n",
      "i =  59\n",
      "i =  60\n",
      "i =  61\n",
      "i =  62\n",
      "i =  63\n",
      "i =  64\n",
      "i =  65\n",
      "i =  66\n",
      "i =  67\n",
      "i =  68\n",
      "i =  69\n",
      "i =  70\n",
      "i =  71\n",
      "i =  72\n",
      "i =  73\n",
      "i =  74\n",
      "i =  75\n",
      "i =  76\n",
      "i =  77\n",
      "i =  78\n",
      "i =  79\n",
      "i =  80\n",
      "i =  81\n",
      "i =  82\n",
      "i =  83\n",
      "i =  84\n",
      "i =  85\n",
      "i =  86\n",
      "i =  87\n",
      "i =  88\n",
      "i =  89\n",
      "i =  90\n",
      "i =  91\n",
      "i =  92\n",
      "i =  93\n",
      "i =  94\n",
      "i =  95\n",
      "i =  96\n",
      "i =  97\n",
      "i =  98\n",
      "i =  99\n",
      "DONE!!\n",
      "Confidence interval based on bootstrapping: [8.34118104261796, 8.419950017123288]\n",
      "End of bootstrap:  14:58:17\n",
      "+++++++++++++++++++++++++++++++++++++++++++++\n"
     ]
    },
    {
     "ename": "AttributeError",
     "evalue": "'str' object has no attribute 'hour'",
     "output_type": "error",
     "traceback": [
      "\u001b[1;31m---------------------------------------------------------------------------\u001b[0m",
      "\u001b[1;31mAttributeError\u001b[0m                            Traceback (most recent call last)",
      "Cell \u001b[1;32mIn[9], line 91\u001b[0m\n\u001b[0;32m     88\u001b[0m \u001b[38;5;28mprint\u001b[39m(\u001b[38;5;124m\"\u001b[39m\u001b[38;5;124mEnd of bootstrap: \u001b[39m\u001b[38;5;124m\"\u001b[39m, end_time)\n\u001b[0;32m     90\u001b[0m \u001b[38;5;28mprint\u001b[39m(\u001b[38;5;124m\"\u001b[39m\u001b[38;5;124m+++++++++++++++++++++++++++++++++++++++++++++\u001b[39m\u001b[38;5;124m\"\u001b[39m)\n\u001b[1;32m---> 91\u001b[0m \u001b[38;5;28mprint\u001b[39m(\u001b[38;5;124m\"\u001b[39m\u001b[38;5;124mDuration of bootstrap: \u001b[39m\u001b[38;5;124m\"\u001b[39m, \u001b[38;5;28mint\u001b[39m(end_time\u001b[38;5;241m.\u001b[39mhour)\u001b[38;5;241m-\u001b[39m\u001b[38;5;28mint\u001b[39m(start_time\u001b[38;5;241m.\u001b[39mhour),\u001b[38;5;124m\"\u001b[39m\u001b[38;5;124m:\u001b[39m\u001b[38;5;124m\"\u001b[39m,\u001b[38;5;28mint\u001b[39m(end_time\u001b[38;5;241m.\u001b[39mminute)\u001b[38;5;241m-\u001b[39m\u001b[38;5;28mint\u001b[39m(start_time\u001b[38;5;241m.\u001b[39mminute),\u001b[38;5;124m\"\u001b[39m\u001b[38;5;124m:\u001b[39m\u001b[38;5;124m\"\u001b[39m,\u001b[38;5;28mint\u001b[39m(end_time\u001b[38;5;241m.\u001b[39msecond)\u001b[38;5;241m-\u001b[39m\u001b[38;5;28mint\u001b[39m(start_time\u001b[38;5;241m.\u001b[39msecond))\n",
      "\u001b[1;31mAttributeError\u001b[0m: 'str' object has no attribute 'hour'"
     ]
    }
   ],
   "source": [
    "now = datetime.now()\n",
    "\n",
    "start_time = now.strftime(\"%H:%M:%S\")\n",
    "\n",
    "print(\"Start of bootstrap: \", start_time)\n",
    "\n",
    "Nbootstrap = 100 #99999  # How many times you wanna do this random act\n",
    "#BootstrapSize = len(U)\n",
    "#BootstrapMeans = np.mean(U)\n",
    "\n",
    "N1year = int(1*365*24*6) # taking an interval for 1 year with 365 days with 24 hours with 6 times 10 minute intervals\n",
    "\n",
    "\n",
    "#for i in range(N1year): # you take the range of this 1 year\n",
    "    \n",
    "# here you take a random sample and then use that sample to locate the next year\n",
    "Yearsample = np.random.randint(low = 0, high = len(WindData) - N1year) #, size = (Nbootstrap,BootstrapSize))\n",
    "\n",
    "print(\"Yearsample = \", Yearsample)\n",
    "\n",
    "Winddata_1_year = WindData[Yearsample:Yearsample + N1year]\n",
    "print(\"Winddata_1_year = \", Winddata_1_year)\n",
    "\n",
    "#Bsample = np.random.randint(low = 0, high = 8, size = (Nbootstrap,BootstrapSize))\n",
    "#Bsample = np.random.randint(low = 0, high = len(WindData) - N1year)\n",
    "\n",
    "BootstrapSize = len(Winddata_1_year)\n",
    "\n",
    "# now select the year in which we do the bootstrapping\n",
    "BootstrapSample = np.zeros((Nbootstrap,BootstrapSize))\n",
    "\n",
    "# now do bootstrapping over the chosen year\n",
    "#for j in range(Nbootstrap):\n",
    "#    # Extract a bootstrap sample using the indices from Bsample\n",
    "#    bootstrap_indices = Bsample[j] + np.arange(BootstrapSize)\n",
    "#    BootstrapSample[j, :] = Winddata[bootstrap_indices]\n",
    "print(\"========================================================\")\n",
    "print(\"Starting Bootstrap...\")\n",
    "for i in range(Nbootstrap):\n",
    "    print(\"i = \", i)\n",
    "    for j in range(BootstrapSize):\n",
    "        ##print(\"Winddata_1_year['Timestamp'].idxmin() = \",Winddata_1_year['Timestamp'].idxmin())\n",
    "        ##print(\"Winddata_1_year['Timestamp'].idxmax() = \",Winddata_1_year['Timestamp'].idxmax())\n",
    "        #Bsample = np.random.randint(low = Winddata_1_year['Timestamp'].idxmin(), high =Winddata_1_year['Timestamp'].idxmax())\n",
    "        #print(\"Bsample = \",Bsample)\n",
    "        \n",
    "                # Initialize Bsample to be outside the valid range\n",
    "        Bsample = np.random.randint(low = Winddata_1_year['Timestamp'].idxmin(), high =Winddata_1_year['Timestamp'].idxmax())\n",
    "        #Bsample = -1\n",
    "        \n",
    "        # Keep generating a new random sample until it's a valid index\n",
    "        while Bsample not in Winddata_1_year.index:\n",
    "            #print(\"Wrong sample, i = \",i,\", j = \", j)\n",
    "            Bsample = np.random.randint(low=Winddata_1_year['Timestamp'].idxmin(), high=Winddata_1_year['Timestamp'].idxmax())\n",
    "        \n",
    "        ##print(\"Bsample =\", Bsample)\n",
    "        \n",
    "        #print(\"Winddata_1_year = \", Winddata_1_year)\n",
    "        #print(Winddata_1_year['Wsp', index = Bsample])\n",
    "        #print(Winddata_1_year)\n",
    "        #print(Winddata_1_year[Winddata_1_year['Timestamp'].idxmax()])\n",
    "        ##print(\"Winddata_1_year.loc[Bsample, 'Wsp'] = \", Winddata_1_year.loc[Bsample, 'Wsp'])\n",
    "        BootstrapSample[i,j] = Winddata_1_year.loc[Bsample, 'Wsp'] #Winddata_1_year['Wsp', index = Bsample]\n",
    "\n",
    "print(\"DONE!!\")\n",
    "# repeat this process\n",
    "\n",
    "#BootstrapSample[i,j] = U[Bsample[i,j]]\n",
    "        \n",
    "#BootstrapSample = \n",
    "\n",
    "BootstrapMeans = np.mean(BootstrapSample, axis=1)\n",
    "BootstrapMeans = np.sort(BootstrapMeans)\n",
    "\n",
    "Rlow = int((Nbootstrap+1) * (alpha/2) )\n",
    "Rhigh = int((Nbootstrap+1) * (1-alpha/2))\n",
    "\n",
    "CIn_B = BootstrapMeans[Rlow]\n",
    "CIp_B = BootstrapMeans[Rhigh]\n",
    "\n",
    "print('Confidence interval based on bootstrapping: [' + str(CIn_B) + ', ' + str(CIp_B) + ']')\n",
    "\n",
    "\n",
    "now = datetime.now()\n",
    "\n",
    "end_time = now.strftime(\"%H:%M:%S\")\n",
    "\n",
    "print(\"End of bootstrap: \", end_time)\n",
    "\n",
    "print(\"+++++++++++++++++++++++++++++++++++++++++++++\")\n",
    "#print(\"Duration of bootstrap: \", int(end_time.hour)-int(start_time.hour),\":\",int(end_time.minute)-int(start_time.minute),\":\",int(end_time.second)-int(start_time.second))"
   ]
  },
  {
   "cell_type": "code",
   "execution_count": 13,
   "id": "25ff83f5",
   "metadata": {},
   "outputs": [
    {
     "name": "stdout",
     "output_type": "stream",
     "text": [
      "           Timestamp      Wsp      TI  TI,detrend   MeanDir  MeanTrigDir  \\\n",
      "283058  2.010053e+11  18.0004  0.0519      0.0442  302.2910     302.2911   \n",
      "283059  2.010053e+11  16.3690  0.0711      0.0710  304.3246     304.3237   \n",
      "283060  2.010053e+11  16.8164  0.0817      0.0808  303.4077     303.4080   \n",
      "283061  2.010053e+11  15.7042  0.0716      0.0652  304.2479     304.2483   \n",
      "283062  2.010053e+11  15.4789  0.0894      0.0816  303.2840     303.2839   \n",
      "...              ...      ...     ...         ...       ...          ...   \n",
      "335787  2.011062e+11   5.6144  0.0876      0.0876  246.3747     246.3774   \n",
      "335788  2.011062e+11   5.8088  0.0979      0.0874  242.8951     242.8952   \n",
      "335789  2.011062e+11   5.6585  0.1276      0.1237  238.9225     238.9202   \n",
      "335790  2.011062e+11   5.5755  0.1094      0.1060  237.7871     237.7865   \n",
      "335791  2.011062e+11   5.8740  0.0888      0.0888  237.9490     237.9484   \n",
      "\n",
      "        StdDir   MinDir   MaxDir  \n",
      "283058  2.3769  292.923  315.673  \n",
      "283059  3.4254  294.565  317.589  \n",
      "283060  2.9050  291.528  313.430  \n",
      "283061  3.0118  290.750  314.007  \n",
      "283062  3.9536  290.728  316.306  \n",
      "...        ...      ...      ...  \n",
      "335787  5.8046  220.072  267.669  \n",
      "335788  5.6216  223.292  262.184  \n",
      "335789  8.3935  211.531  275.486  \n",
      "335790  5.6150  215.682  264.072  \n",
      "335791  8.0639  214.150  262.061  \n",
      "\n",
      "[52560 rows x 9 columns]\n"
     ]
    }
   ],
   "source": [
    "print(Winddata_1_year)"
   ]
  },
  {
   "cell_type": "code",
   "execution_count": 14,
   "id": "ff0032b6",
   "metadata": {},
   "outputs": [
    {
     "name": "stdout",
     "output_type": "stream",
     "text": [
      "Confidence interval based on the Normal distribution: [8.825275882420442, 8.852564066299418]\n"
     ]
    }
   ],
   "source": [
    "# Confidence intervals using directly the Standard Normal distribution\n",
    "k_alpha = stats.norm.ppf(alpha/2)\n",
    "k_alpha_p = - stats.norm.ppf(1-alpha/2)\n",
    "\n",
    "CIn_N = Umean + k_alpha * (Ustd/(np.sqrt(n)))\n",
    "CIp_N = Umean - k_alpha * (Ustd/(np.sqrt(n)))\n",
    "\n",
    "print('Confidence interval based on the Normal distribution: [' + str(CIn_N) + ', ' + str(CIp_N) + ']')"
   ]
  },
  {
   "cell_type": "code",
   "execution_count": 15,
   "id": "b79e2dd5",
   "metadata": {},
   "outputs": [
    {
     "ename": "ValueError",
     "evalue": "The number of FixedLocator locations (3), usually from a call to set_ticks, does not match the number of labels (2).",
     "output_type": "error",
     "traceback": [
      "\u001b[1;31m---------------------------------------------------------------------------\u001b[0m",
      "\u001b[1;31mValueError\u001b[0m                                Traceback (most recent call last)",
      "Cell \u001b[1;32mIn[15], line 8\u001b[0m\n\u001b[0;32m      6\u001b[0m ax0\u001b[38;5;241m.\u001b[39mset_xlim([\u001b[38;5;241m0.5\u001b[39m,\u001b[38;5;241m3.5\u001b[39m])\n\u001b[0;32m      7\u001b[0m ax0\u001b[38;5;241m.\u001b[39mset_xticks([\u001b[38;5;241m1\u001b[39m,\u001b[38;5;241m2\u001b[39m,\u001b[38;5;241m3\u001b[39m])\n\u001b[1;32m----> 8\u001b[0m ax0\u001b[38;5;241m.\u001b[39mset_xticklabels([\u001b[38;5;124m'\u001b[39m\u001b[38;5;124mNormal dist.\u001b[39m\u001b[38;5;124m'\u001b[39m,\u001b[38;5;124m'\u001b[39m\u001b[38;5;124mBootstrapping\u001b[39m\u001b[38;5;124m'\u001b[39m])\n\u001b[0;32m      9\u001b[0m ax0\u001b[38;5;241m.\u001b[39mset_ylabel(\u001b[38;5;124m'\u001b[39m\u001b[38;5;124mAnnual mean wind speed [m/s]\u001b[39m\u001b[38;5;124m'\u001b[39m)\n\u001b[0;32m     10\u001b[0m plt\u001b[38;5;241m.\u001b[39mshow()\n",
      "File \u001b[1;32m~\\anaconda3\\envs\\dtu_env\\Lib\\site-packages\\matplotlib\\axes\\_base.py:74\u001b[0m, in \u001b[0;36m_axis_method_wrapper.__set_name__.<locals>.wrapper\u001b[1;34m(self, *args, **kwargs)\u001b[0m\n\u001b[0;32m     73\u001b[0m \u001b[38;5;28;01mdef\u001b[39;00m \u001b[38;5;21mwrapper\u001b[39m(\u001b[38;5;28mself\u001b[39m, \u001b[38;5;241m*\u001b[39margs, \u001b[38;5;241m*\u001b[39m\u001b[38;5;241m*\u001b[39mkwargs):\n\u001b[1;32m---> 74\u001b[0m     \u001b[38;5;28;01mreturn\u001b[39;00m get_method(\u001b[38;5;28mself\u001b[39m)(\u001b[38;5;241m*\u001b[39margs, \u001b[38;5;241m*\u001b[39m\u001b[38;5;241m*\u001b[39mkwargs)\n",
      "File \u001b[1;32m~\\anaconda3\\envs\\dtu_env\\Lib\\site-packages\\matplotlib\\_api\\deprecation.py:297\u001b[0m, in \u001b[0;36mrename_parameter.<locals>.wrapper\u001b[1;34m(*args, **kwargs)\u001b[0m\n\u001b[0;32m    292\u001b[0m     warn_deprecated(\n\u001b[0;32m    293\u001b[0m         since, message\u001b[38;5;241m=\u001b[39m\u001b[38;5;124mf\u001b[39m\u001b[38;5;124m\"\u001b[39m\u001b[38;5;124mThe \u001b[39m\u001b[38;5;132;01m{\u001b[39;00mold\u001b[38;5;132;01m!r}\u001b[39;00m\u001b[38;5;124m parameter of \u001b[39m\u001b[38;5;132;01m{\u001b[39;00mfunc\u001b[38;5;241m.\u001b[39m\u001b[38;5;18m__name__\u001b[39m\u001b[38;5;132;01m}\u001b[39;00m\u001b[38;5;124m() \u001b[39m\u001b[38;5;124m\"\u001b[39m\n\u001b[0;32m    294\u001b[0m         \u001b[38;5;124mf\u001b[39m\u001b[38;5;124m\"\u001b[39m\u001b[38;5;124mhas been renamed \u001b[39m\u001b[38;5;132;01m{\u001b[39;00mnew\u001b[38;5;132;01m!r}\u001b[39;00m\u001b[38;5;124m since Matplotlib \u001b[39m\u001b[38;5;132;01m{\u001b[39;00msince\u001b[38;5;132;01m}\u001b[39;00m\u001b[38;5;124m; support \u001b[39m\u001b[38;5;124m\"\u001b[39m\n\u001b[0;32m    295\u001b[0m         \u001b[38;5;124mf\u001b[39m\u001b[38;5;124m\"\u001b[39m\u001b[38;5;124mfor the old name will be dropped %(removal)s.\u001b[39m\u001b[38;5;124m\"\u001b[39m)\n\u001b[0;32m    296\u001b[0m     kwargs[new] \u001b[38;5;241m=\u001b[39m kwargs\u001b[38;5;241m.\u001b[39mpop(old)\n\u001b[1;32m--> 297\u001b[0m \u001b[38;5;28;01mreturn\u001b[39;00m func(\u001b[38;5;241m*\u001b[39margs, \u001b[38;5;241m*\u001b[39m\u001b[38;5;241m*\u001b[39mkwargs)\n",
      "File \u001b[1;32m~\\anaconda3\\envs\\dtu_env\\Lib\\site-packages\\matplotlib\\axis.py:1969\u001b[0m, in \u001b[0;36mAxis.set_ticklabels\u001b[1;34m(self, labels, minor, fontdict, **kwargs)\u001b[0m\n\u001b[0;32m   1965\u001b[0m \u001b[38;5;28;01mif\u001b[39;00m \u001b[38;5;28misinstance\u001b[39m(locator, mticker\u001b[38;5;241m.\u001b[39mFixedLocator):\n\u001b[0;32m   1966\u001b[0m     \u001b[38;5;66;03m# Passing [] as a list of labels is often used as a way to\u001b[39;00m\n\u001b[0;32m   1967\u001b[0m     \u001b[38;5;66;03m# remove all tick labels, so only error for > 0 labels\u001b[39;00m\n\u001b[0;32m   1968\u001b[0m     \u001b[38;5;28;01mif\u001b[39;00m \u001b[38;5;28mlen\u001b[39m(locator\u001b[38;5;241m.\u001b[39mlocs) \u001b[38;5;241m!=\u001b[39m \u001b[38;5;28mlen\u001b[39m(labels) \u001b[38;5;129;01mand\u001b[39;00m \u001b[38;5;28mlen\u001b[39m(labels) \u001b[38;5;241m!=\u001b[39m \u001b[38;5;241m0\u001b[39m:\n\u001b[1;32m-> 1969\u001b[0m         \u001b[38;5;28;01mraise\u001b[39;00m \u001b[38;5;167;01mValueError\u001b[39;00m(\n\u001b[0;32m   1970\u001b[0m             \u001b[38;5;124m\"\u001b[39m\u001b[38;5;124mThe number of FixedLocator locations\u001b[39m\u001b[38;5;124m\"\u001b[39m\n\u001b[0;32m   1971\u001b[0m             \u001b[38;5;124mf\u001b[39m\u001b[38;5;124m\"\u001b[39m\u001b[38;5;124m (\u001b[39m\u001b[38;5;132;01m{\u001b[39;00m\u001b[38;5;28mlen\u001b[39m(locator\u001b[38;5;241m.\u001b[39mlocs)\u001b[38;5;132;01m}\u001b[39;00m\u001b[38;5;124m), usually from a call to\u001b[39m\u001b[38;5;124m\"\u001b[39m\n\u001b[0;32m   1972\u001b[0m             \u001b[38;5;124m\"\u001b[39m\u001b[38;5;124m set_ticks, does not match\u001b[39m\u001b[38;5;124m\"\u001b[39m\n\u001b[0;32m   1973\u001b[0m             \u001b[38;5;124mf\u001b[39m\u001b[38;5;124m\"\u001b[39m\u001b[38;5;124m the number of labels (\u001b[39m\u001b[38;5;132;01m{\u001b[39;00m\u001b[38;5;28mlen\u001b[39m(labels)\u001b[38;5;132;01m}\u001b[39;00m\u001b[38;5;124m).\u001b[39m\u001b[38;5;124m\"\u001b[39m)\n\u001b[0;32m   1974\u001b[0m     tickd \u001b[38;5;241m=\u001b[39m {loc: lab \u001b[38;5;28;01mfor\u001b[39;00m loc, lab \u001b[38;5;129;01min\u001b[39;00m \u001b[38;5;28mzip\u001b[39m(locator\u001b[38;5;241m.\u001b[39mlocs, labels)}\n\u001b[0;32m   1975\u001b[0m     func \u001b[38;5;241m=\u001b[39m functools\u001b[38;5;241m.\u001b[39mpartial(\u001b[38;5;28mself\u001b[39m\u001b[38;5;241m.\u001b[39m_format_with_dict, tickd)\n",
      "\u001b[1;31mValueError\u001b[0m: The number of FixedLocator locations (3), usually from a call to set_ticks, does not match the number of labels (2)."
     ]
    },
    {
     "data": {
      "image/png": "[encoded data removed]",
      "text/plain": [
       "<Figure size 640x480 with 1 Axes>"
      ]
     },
     "metadata": {},
     "output_type": "display_data"
    }
   ],
   "source": [
    "# Plot errorbars\n",
    "fig0, ax0 = plt.subplots()\n",
    "ax0.errorbar([1, 2], [Umean, np.mean(BootstrapMeans)],\n",
    "             yerr = [(CIp_N - CIn_N), (CIp_B - CIn_B)],\n",
    "            linestyle = '',marker = 'o',capsize = 5)\n",
    "ax0.set_xlim([0.5,3.5])\n",
    "ax0.set_xticks([1,2,3])\n",
    "ax0.set_xticklabels(['Normal dist.','Bootstrapping'])\n",
    "ax0.set_ylabel('Annual mean wind speed [m/s]')\n",
    "plt.show()"
   ]
  },
  {
   "cell_type": "code",
   "execution_count": 16,
   "id": "a6e97482",
   "metadata": {},
   "outputs": [
    {
     "name": "stderr",
     "output_type": "stream",
     "text": [
      "C:\\Users\\joram\\anaconda3\\envs\\dtu_env\\Lib\\site-packages\\scipy\\stats\\_continuous_distns.py:10958: RuntimeWarning: divide by zero encountered in divide\n",
      "  self._hpdf = self._hpdf / float(np.sum(self._hpdf * self._hbin_widths))\n",
      "C:\\Users\\joram\\anaconda3\\envs\\dtu_env\\Lib\\site-packages\\scipy\\stats\\_continuous_distns.py:10958: RuntimeWarning: invalid value encountered in divide\n",
      "  self._hpdf = self._hpdf / float(np.sum(self._hpdf * self._hbin_widths))\n"
     ]
    },
    {
     "data": {
      "image/png": "[encoded data removed]",
      "text/plain": [
       "<Figure size 640x480 with 1 Axes>"
      ]
     },
     "metadata": {},
     "output_type": "display_data"
    }
   ],
   "source": [
    "# Plot pdfs\n",
    "\n",
    "Ubins = np.linspace(8.5,12,100)\n",
    "\n",
    "pdf_N = stats.norm.pdf(Ubins,Umean,Ustd/np.sqrt(n))\n",
    "dU = Ubins[1]-Ubins[0] # Scaling factor for the t-pdf to make sure we get a valid pdf for every bin spacing\n",
    "pdf_T = (1/np.sqrt(dU))*stats.t.pdf((Ubins - Umean)/(Ustd/np.sqrt(n)), n - 1)\n",
    "\n",
    "# Generating an empirical pdf from the bootstrap sample\n",
    "BootstrapHist = np.histogram(BootstrapMeans,bins = Ubins)\n",
    "BootstrapDist = stats.rv_histogram(BootstrapHist)\n",
    "pdf_B = BootstrapDist.pdf(Ubins)\n",
    "\n",
    "fig1, ax1 = plt.subplots()\n",
    "p11 = ax1.plot(Ubins,pdf_N,'--r', label = 'Normal')\n",
    "p12 = ax1.plot(Ubins,pdf_B,'-b', label = 'Bootstrapping')\n",
    "plt.xlabel('Annual mean wind speed [m/s]')\n",
    "plt.ylabel('Probability density')\n",
    "plt.legend()\n",
    "\n",
    "plt.show()"
   ]
  },
  {
   "cell_type": "code",
   "execution_count": null,
   "id": "29738d7a",
   "metadata": {},
   "outputs": [],
   "source": []
  },
  {
   "cell_type": "code",
   "execution_count": null,
   "id": "98495d52",
   "metadata": {},
   "outputs": [],
   "source": []
  }
 ],
 "metadata": {
  "kernelspec": {
   "display_name": "Python 3 (ipykernel)",
   "language": "python",
   "name": "python3"
  },
  "language_info": {
   "codemirror_mode": {
    "name": "ipython",
    "version": 3
   },
   "file_extension": ".py",
   "mimetype": "text/x-python",
   "name": "python",
   "nbconvert_exporter": "python",
   "pygments_lexer": "ipython3",
   "version": "3.11.4"
  }
 },
 "nbformat": 4,
 "nbformat_minor": 5
}
