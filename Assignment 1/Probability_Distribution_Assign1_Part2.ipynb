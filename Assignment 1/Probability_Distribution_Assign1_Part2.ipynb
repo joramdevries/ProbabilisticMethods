{
 "cells": [
  {
   "cell_type": "code",
   "execution_count": 1,
   "id": "2b474b56",
   "metadata": {},
   "outputs": [],
   "source": [
    "import numpy as np\n",
    "import pandas as pd\n",
    "import scipy.stats as stats\n",
    "import scipy\n",
    "import matplotlib.pyplot as plt\n",
    "import sklearn\n",
    "import sklearn.neural_network"
   ]
  },
  {
   "cell_type": "code",
   "execution_count": 2,
   "id": "9ecab0b3",
   "metadata": {},
   "outputs": [],
   "source": [
    "WindData = pd.read_csv('HovsoreData_Sonic_100m_2004-2013.csv')"
   ]
  },
  {
   "cell_type": "code",
   "execution_count": 3,
   "id": "d5019159",
   "metadata": {},
   "outputs": [],
   "source": [
    "# Filter rows where 'Wsp' is less than or equal to 35 m/s\n",
    "filtered_WindData = WindData[WindData['Wsp'] <= 35]\n",
    "\n",
    "filtered_WindData.loc[filtered_WindData[\"TI\"] <= 0.001] = np.nan\n",
    "\n",
    "filtered_WindData = filtered_WindData.dropna()\n",
    "\n",
    "# Save the filtered data to a new CSV file\n",
    "filtered_csv_file = 'FilteredWindData.csv'\n",
    "filtered_WindData.to_csv(filtered_csv_file, index=False)\n",
    "\n",
    "WindData = filtered_WindData"
   ]
  },
  {
   "cell_type": "code",
   "execution_count": 4,
   "id": "7e3091db",
   "metadata": {},
   "outputs": [],
   "source": [
    "U = WindData['Wsp']"
   ]
  },
  {
   "cell_type": "code",
   "execution_count": 5,
   "id": "1f59cc30",
   "metadata": {},
   "outputs": [
    {
     "name": "stdout",
     "output_type": "stream",
     "text": [
      "Umean =  8.83891997435993\n",
      "Ustd =  4.563811841180505\n",
      "n =  429796\n"
     ]
    }
   ],
   "source": [
    "Umean = np.mean(U)\n",
    "Ustd = np.std(U)\n",
    "\n",
    "n = len(U) # Count the number of samples\n",
    "\n",
    "\n",
    "print(\"Umean = \", Umean)\n",
    "print(\"Ustd = \", Ustd)\n",
    "print(\"n = \", n)"
   ]
  },
  {
   "cell_type": "code",
   "execution_count": 6,
   "id": "2e9372ce",
   "metadata": {},
   "outputs": [],
   "source": [
    "alpha =  1 - 0.95# Corresponding to 95% probability  ( alpha = 1-p)"
   ]
  },
  {
   "cell_type": "code",
   "execution_count": 7,
   "id": "0b319fdb",
   "metadata": {},
   "outputs": [
    {
     "ename": "KeyboardInterrupt",
     "evalue": "",
     "output_type": "error",
     "traceback": [
      "\u001b[1;31m---------------------------------------------------------------------------\u001b[0m",
      "\u001b[1;31mKeyboardInterrupt\u001b[0m                         Traceback (most recent call last)",
      "Cell \u001b[1;32mIn[7], line 8\u001b[0m\n\u001b[0;32m      6\u001b[0m \u001b[38;5;28;01mfor\u001b[39;00m i \u001b[38;5;129;01min\u001b[39;00m \u001b[38;5;28mrange\u001b[39m(Nbootstrap):\n\u001b[0;32m      7\u001b[0m     \u001b[38;5;28;01mfor\u001b[39;00m j \u001b[38;5;129;01min\u001b[39;00m \u001b[38;5;28mrange\u001b[39m(BootstrapSize):\n\u001b[1;32m----> 8\u001b[0m         BootstrapSample[i,j] \u001b[38;5;241m=\u001b[39m U[Bsample[i,j]]\n\u001b[0;32m     10\u001b[0m \u001b[38;5;66;03m#BootstrapSample = \u001b[39;00m\n\u001b[0;32m     12\u001b[0m BootstrapMeans \u001b[38;5;241m=\u001b[39m np\u001b[38;5;241m.\u001b[39mmean(BootstrapSample, axis\u001b[38;5;241m=\u001b[39m\u001b[38;5;241m1\u001b[39m)\n",
      "File \u001b[1;32m~\\anaconda3\\envs\\dtu_env\\Lib\\site-packages\\pandas\\core\\series.py:992\u001b[0m, in \u001b[0;36mSeries.__getitem__\u001b[1;34m(self, key)\u001b[0m\n\u001b[0;32m    987\u001b[0m \u001b[38;5;28;01mdef\u001b[39;00m \u001b[38;5;21m_slice\u001b[39m(\u001b[38;5;28mself\u001b[39m, slobj: \u001b[38;5;28mslice\u001b[39m \u001b[38;5;241m|\u001b[39m np\u001b[38;5;241m.\u001b[39mndarray, axis: Axis \u001b[38;5;241m=\u001b[39m \u001b[38;5;241m0\u001b[39m) \u001b[38;5;241m-\u001b[39m\u001b[38;5;241m>\u001b[39m Series:\n\u001b[0;32m    988\u001b[0m     \u001b[38;5;66;03m# axis kwarg is retained for compat with NDFrame method\u001b[39;00m\n\u001b[0;32m    989\u001b[0m     \u001b[38;5;66;03m#  _slice is *always* positional\u001b[39;00m\n\u001b[0;32m    990\u001b[0m     \u001b[38;5;28;01mreturn\u001b[39;00m \u001b[38;5;28mself\u001b[39m\u001b[38;5;241m.\u001b[39m_get_values(slobj)\n\u001b[1;32m--> 992\u001b[0m \u001b[38;5;28;01mdef\u001b[39;00m \u001b[38;5;21m__getitem__\u001b[39m(\u001b[38;5;28mself\u001b[39m, key):\n\u001b[0;32m    993\u001b[0m     check_dict_or_set_indexers(key)\n\u001b[0;32m    994\u001b[0m     key \u001b[38;5;241m=\u001b[39m com\u001b[38;5;241m.\u001b[39mapply_if_callable(key, \u001b[38;5;28mself\u001b[39m)\n",
      "\u001b[1;31mKeyboardInterrupt\u001b[0m: "
     ]
    }
   ],
   "source": [
    "Nbootstrap = 100 #99999\n",
    "BootstrapSize = len(U)\n",
    "\n",
    "Bsample = np.random.randint(low = 0, high = 8, size = (Nbootstrap,BootstrapSize))\n",
    "BootstrapSample = np.zeros((Nbootstrap,BootstrapSize))\n",
    "for i in range(Nbootstrap):\n",
    "    for j in range(BootstrapSize):\n",
    "        BootstrapSample[i,j] = U[Bsample[i,j]]\n",
    "        \n",
    "#BootstrapSample = \n",
    "\n",
    "BootstrapMeans = np.mean(BootstrapSample, axis=1)\n",
    "BootstrapMeans = np.sort(BootstrapMeans)\n",
    "\n",
    "Rlow = int((Nbootstrap+1) * (alpha/2) )\n",
    "Rhigh = int((Nbootstrap+1) * (1-alpha/2))\n",
    "\n",
    "CIn_B = BootstrapMeans[Rlow]\n",
    "CIp_B = BootstrapMeans[Rhigh]\n",
    "\n",
    "print('Confidence interval based on bootstrapping: [' + str(CIn_B) + ', ' + str(CIp_B) + ']')"
   ]
  },
  {
   "cell_type": "code",
   "execution_count": 8,
   "id": "ccf0e9f2",
   "metadata": {},
   "outputs": [
    {
     "name": "stdout",
     "output_type": "stream",
     "text": [
      "Fitting the environmental uncertainty variable 𝑋𝑊:\n",
      "Did you try bootstrapping directly on the data? What did you notice? The uncertainty likely depends on the\n",
      "bootstrap sample size (how many points you use in each bootstrap sample). In order to determine the right\n",
      "bootstrap sample size, we should consider what the wind speed has certain long variation cycles (diurnal,\n",
      "seasonal), hence shuffling the data may not be the most realistic way to determine the uncertainty as it\n",
      "eliminates these long-term variations. The suggested approach is to take each bootstrap sample (or other\n",
      "methodology) based on samples which take a continuous piece of the data (e.g. one continuous period at a\n",
      "time), and the randomness is achieved by randomly shifting the starting point of the sample. What is the\n",
      "minimum period duration you should consider?\n"
     ]
    }
   ],
   "source": [
    "print(\"Fitting the environmental uncertainty variable 𝑋𝑊:\")\n",
    "print(\"Did you try bootstrapping directly on the data? What did you notice? The uncertainty likely depends on the\")\n",
    "print(\"bootstrap sample size (how many points you use in each bootstrap sample). In order to determine the right\") \n",
    "print(\"bootstrap sample size, we should consider what the wind speed has certain long variation cycles (diurnal,\") \n",
    "print(\"seasonal), hence shuffling the data may not be the most realistic way to determine the uncertainty as it\") \n",
    "print(\"eliminates these long-term variations. The suggested approach is to take each bootstrap sample (or other\") \n",
    "print(\"methodology) based on samples which take a continuous piece of the data (e.g. one continuous period at a\") \n",
    "print(\"time), and the randomness is achieved by randomly shifting the starting point of the sample. What is the\") \n",
    "print(\"minimum period duration you should consider?\")"
   ]
  },
  {
   "cell_type": "code",
   "execution_count": 11,
   "id": "8c21c511",
   "metadata": {},
   "outputs": [],
   "source": [
    "from datetime import datetime\n"
   ]
  },
  {
   "cell_type": "code",
   "execution_count": 12,
   "id": "46e7c2da",
   "metadata": {},
   "outputs": [
    {
     "name": "stdout",
     "output_type": "stream",
     "text": [
      "Start of bootstrap:  09:52:03\n",
      "Yearsample =  355439\n",
      "Winddata_1_year =             Timestamp     Wsp      TI  TI,detrend   MeanDir  MeanTrigDir  \\\n",
      "364405  2.012012e+11  8.6299  0.0496      0.0431  295.6617     295.6619   \n",
      "364406  2.012012e+11  8.5771  0.0353      0.0348  297.4903     297.4903   \n",
      "364407  2.012012e+11  9.2877  0.0336      0.0335  290.9002     290.9002   \n",
      "364408  2.012012e+11  9.1631  0.0469      0.0369  287.4657     287.4658   \n",
      "364409  2.012012e+11  9.5148  0.0483      0.0323  285.3507     285.3506   \n",
      "...              ...     ...     ...         ...       ...          ...   \n",
      "417218  2.013031e+11  1.9695  0.2909      0.2632  189.7456     190.0128   \n",
      "417219  2.013031e+11  2.0055  0.3285      0.3191  185.8268     186.4898   \n",
      "417220  2.013031e+11  2.2692  0.2625      0.2625  190.2589     190.3536   \n",
      "417221  2.013031e+11  2.6258  0.2558      0.2364  191.1484     191.3315   \n",
      "417222  2.013031e+11  3.3420  0.1606      0.1377  194.0485     194.0321   \n",
      "\n",
      "         StdDir    MinDir   MaxDir  \n",
      "364405   1.8246  286.7070  301.256  \n",
      "364406   1.7448  291.1990  305.285  \n",
      "364407   2.2983  279.3540  297.706  \n",
      "364408   2.0270  278.6560  292.586  \n",
      "364409   1.8213  276.6850  293.466  \n",
      "...         ...       ...      ...  \n",
      "417218  17.1937  111.8540  227.313  \n",
      "417219  23.6175   87.6668  251.923  \n",
      "417220  14.8027  129.0830  235.290  \n",
      "417221  16.7492   98.6896  241.168  \n",
      "417222   9.3064  163.1990  247.370  \n",
      "\n",
      "[52560 rows x 9 columns]\n",
      "========================================================\n",
      "Starting Bootstrap...\n",
      "i =  0\n",
      "i =  1\n",
      "i =  2\n",
      "i =  3\n",
      "i =  4\n",
      "i =  5\n",
      "i =  6\n",
      "i =  7\n",
      "i =  8\n",
      "i =  9\n",
      "i =  10\n",
      "i =  11\n",
      "i =  12\n",
      "i =  13\n",
      "i =  14\n",
      "i =  15\n",
      "i =  16\n",
      "i =  17\n",
      "i =  18\n",
      "i =  19\n",
      "i =  20\n",
      "i =  21\n",
      "i =  22\n",
      "i =  23\n",
      "i =  24\n",
      "i =  25\n",
      "i =  26\n",
      "i =  27\n",
      "i =  28\n",
      "i =  29\n",
      "i =  30\n",
      "i =  31\n",
      "i =  32\n",
      "i =  33\n",
      "i =  34\n",
      "i =  35\n",
      "i =  36\n",
      "i =  37\n",
      "i =  38\n",
      "i =  39\n",
      "i =  40\n",
      "i =  41\n",
      "i =  42\n",
      "i =  43\n",
      "i =  44\n",
      "i =  45\n",
      "i =  46\n",
      "i =  47\n",
      "i =  48\n",
      "i =  49\n",
      "i =  50\n",
      "i =  51\n",
      "i =  52\n",
      "i =  53\n",
      "i =  54\n",
      "i =  55\n",
      "i =  56\n",
      "i =  57\n",
      "i =  58\n",
      "i =  59\n",
      "i =  60\n",
      "i =  61\n",
      "i =  62\n",
      "i =  63\n",
      "i =  64\n",
      "i =  65\n",
      "i =  66\n",
      "i =  67\n",
      "i =  68\n",
      "i =  69\n",
      "i =  70\n",
      "i =  71\n",
      "i =  72\n",
      "i =  73\n",
      "i =  74\n",
      "i =  75\n",
      "i =  76\n",
      "i =  77\n",
      "i =  78\n",
      "i =  79\n",
      "i =  80\n",
      "i =  81\n",
      "i =  82\n",
      "i =  83\n",
      "i =  84\n",
      "i =  85\n",
      "i =  86\n",
      "i =  87\n",
      "i =  88\n",
      "i =  89\n",
      "i =  90\n",
      "i =  91\n",
      "i =  92\n",
      "i =  93\n",
      "i =  94\n",
      "i =  95\n",
      "i =  96\n",
      "i =  97\n",
      "i =  98\n",
      "i =  99\n",
      "DONE!!\n",
      "Confidence interval based on bootstrapping: [8.891533314307457, 8.982020669710806]\n",
      "End of bootstrap:  10:06:32\n",
      "+++++++++++++++++++++++++++++++++++++++++++++\n"
     ]
    },
    {
     "ename": "TypeError",
     "evalue": "unsupported operand type(s) for -: 'str' and 'str'",
     "output_type": "error",
     "traceback": [
      "\u001b[1;31m---------------------------------------------------------------------------\u001b[0m",
      "\u001b[1;31mTypeError\u001b[0m                                 Traceback (most recent call last)",
      "Cell \u001b[1;32mIn[12], line 91\u001b[0m\n\u001b[0;32m     88\u001b[0m \u001b[38;5;28mprint\u001b[39m(\u001b[38;5;124m\"\u001b[39m\u001b[38;5;124mEnd of bootstrap: \u001b[39m\u001b[38;5;124m\"\u001b[39m, end_time)\n\u001b[0;32m     90\u001b[0m \u001b[38;5;28mprint\u001b[39m(\u001b[38;5;124m\"\u001b[39m\u001b[38;5;124m+++++++++++++++++++++++++++++++++++++++++++++\u001b[39m\u001b[38;5;124m\"\u001b[39m)\n\u001b[1;32m---> 91\u001b[0m \u001b[38;5;28mprint\u001b[39m(\u001b[38;5;124m\"\u001b[39m\u001b[38;5;124mDuration of bootstrap: \u001b[39m\u001b[38;5;124m\"\u001b[39m, end_time\u001b[38;5;241m-\u001b[39mstart_time)\n",
      "\u001b[1;31mTypeError\u001b[0m: unsupported operand type(s) for -: 'str' and 'str'"
     ]
    }
   ],
   "source": [
    "now = datetime.now()\n",
    "\n",
    "start_time = now.strftime(\"%H:%M:%S\")\n",
    "\n",
    "print(\"Start of bootstrap: \", start_time)\n",
    "\n",
    "Nbootstrap = 100 #99999  # How many times you wanna do this random act\n",
    "#BootstrapSize = len(U)\n",
    "#BootstrapMeans = np.mean(U)\n",
    "\n",
    "N1year = int(1*365*24*6) # taking an interval for 1 year with 365 days with 24 hours with 6 times 10 minute intervals\n",
    "\n",
    "\n",
    "#for i in range(N1year): # you take the range of this 1 year\n",
    "    \n",
    "# here you take a random sample and then use that sample to locate the next year\n",
    "Yearsample = np.random.randint(low = 0, high = len(WindData) - N1year) #, size = (Nbootstrap,BootstrapSize))\n",
    "\n",
    "print(\"Yearsample = \", Yearsample)\n",
    "\n",
    "Winddata_1_year = WindData[Yearsample:Yearsample + N1year]\n",
    "print(\"Winddata_1_year = \", Winddata_1_year)\n",
    "\n",
    "#Bsample = np.random.randint(low = 0, high = 8, size = (Nbootstrap,BootstrapSize))\n",
    "#Bsample = np.random.randint(low = 0, high = len(WindData) - N1year)\n",
    "\n",
    "BootstrapSize = len(Winddata_1_year)\n",
    "\n",
    "# now select the year in which we do the bootstrapping\n",
    "BootstrapSample = np.zeros((Nbootstrap,BootstrapSize))\n",
    "\n",
    "# now do bootstrapping over the chosen year\n",
    "#for j in range(Nbootstrap):\n",
    "#    # Extract a bootstrap sample using the indices from Bsample\n",
    "#    bootstrap_indices = Bsample[j] + np.arange(BootstrapSize)\n",
    "#    BootstrapSample[j, :] = Winddata[bootstrap_indices]\n",
    "print(\"========================================================\")\n",
    "print(\"Starting Bootstrap...\")\n",
    "for i in range(Nbootstrap):\n",
    "    print(\"i = \", i)\n",
    "    for j in range(BootstrapSize):\n",
    "        ##print(\"Winddata_1_year['Timestamp'].idxmin() = \",Winddata_1_year['Timestamp'].idxmin())\n",
    "        ##print(\"Winddata_1_year['Timestamp'].idxmax() = \",Winddata_1_year['Timestamp'].idxmax())\n",
    "        #Bsample = np.random.randint(low = Winddata_1_year['Timestamp'].idxmin(), high =Winddata_1_year['Timestamp'].idxmax())\n",
    "        #print(\"Bsample = \",Bsample)\n",
    "        \n",
    "                # Initialize Bsample to be outside the valid range\n",
    "        Bsample = np.random.randint(low = Winddata_1_year['Timestamp'].idxmin(), high =Winddata_1_year['Timestamp'].idxmax())\n",
    "        #Bsample = -1\n",
    "        \n",
    "        # Keep generating a new random sample until it's a valid index\n",
    "        while Bsample not in Winddata_1_year.index:\n",
    "            #print(\"Wrong sample, i = \",i,\", j = \", j)\n",
    "            Bsample = np.random.randint(low=Winddata_1_year['Timestamp'].idxmin(), high=Winddata_1_year['Timestamp'].idxmax())\n",
    "        \n",
    "        ##print(\"Bsample =\", Bsample)\n",
    "        \n",
    "        #print(\"Winddata_1_year = \", Winddata_1_year)\n",
    "        #print(Winddata_1_year['Wsp', index = Bsample])\n",
    "        #print(Winddata_1_year)\n",
    "        #print(Winddata_1_year[Winddata_1_year['Timestamp'].idxmax()])\n",
    "        ##print(\"Winddata_1_year.loc[Bsample, 'Wsp'] = \", Winddata_1_year.loc[Bsample, 'Wsp'])\n",
    "        BootstrapSample[i,j] = Winddata_1_year.loc[Bsample, 'Wsp'] #Winddata_1_year['Wsp', index = Bsample]\n",
    "\n",
    "print(\"DONE!!\")\n",
    "# repeat this process\n",
    "\n",
    "#BootstrapSample[i,j] = U[Bsample[i,j]]\n",
    "        \n",
    "#BootstrapSample = \n",
    "\n",
    "BootstrapMeans = np.mean(BootstrapSample, axis=1)\n",
    "BootstrapMeans = np.sort(BootstrapMeans)\n",
    "\n",
    "Rlow = int((Nbootstrap+1) * (alpha/2) )\n",
    "Rhigh = int((Nbootstrap+1) * (1-alpha/2))\n",
    "\n",
    "CIn_B = BootstrapMeans[Rlow]\n",
    "CIp_B = BootstrapMeans[Rhigh]\n",
    "\n",
    "print('Confidence interval based on bootstrapping: [' + str(CIn_B) + ', ' + str(CIp_B) + ']')\n",
    "\n",
    "\n",
    "now = datetime.now()\n",
    "\n",
    "end_time = now.strftime(\"%H:%M:%S\")\n",
    "\n",
    "print(\"End of bootstrap: \", end_time)\n",
    "\n",
    "print(\"+++++++++++++++++++++++++++++++++++++++++++++\")\n",
    "print(\"Duration of bootstrap: \", int(end_time.hour)-int(start_time.hour),\":\",int(end_time.minute)-int(start_time.minute),\":\",int(end_time.second)-int(start_time.second))"
   ]
  },
  {
   "cell_type": "code",
   "execution_count": 13,
   "id": "25ff83f5",
   "metadata": {},
   "outputs": [
    {
     "name": "stdout",
     "output_type": "stream",
     "text": [
      "           Timestamp     Wsp      TI  TI,detrend   MeanDir  MeanTrigDir  \\\n",
      "364405  2.012012e+11  8.6299  0.0496      0.0431  295.6617     295.6619   \n",
      "364406  2.012012e+11  8.5771  0.0353      0.0348  297.4903     297.4903   \n",
      "364407  2.012012e+11  9.2877  0.0336      0.0335  290.9002     290.9002   \n",
      "364408  2.012012e+11  9.1631  0.0469      0.0369  287.4657     287.4658   \n",
      "364409  2.012012e+11  9.5148  0.0483      0.0323  285.3507     285.3506   \n",
      "...              ...     ...     ...         ...       ...          ...   \n",
      "417218  2.013031e+11  1.9695  0.2909      0.2632  189.7456     190.0128   \n",
      "417219  2.013031e+11  2.0055  0.3285      0.3191  185.8268     186.4898   \n",
      "417220  2.013031e+11  2.2692  0.2625      0.2625  190.2589     190.3536   \n",
      "417221  2.013031e+11  2.6258  0.2558      0.2364  191.1484     191.3315   \n",
      "417222  2.013031e+11  3.3420  0.1606      0.1377  194.0485     194.0321   \n",
      "\n",
      "         StdDir    MinDir   MaxDir  \n",
      "364405   1.8246  286.7070  301.256  \n",
      "364406   1.7448  291.1990  305.285  \n",
      "364407   2.2983  279.3540  297.706  \n",
      "364408   2.0270  278.6560  292.586  \n",
      "364409   1.8213  276.6850  293.466  \n",
      "...         ...       ...      ...  \n",
      "417218  17.1937  111.8540  227.313  \n",
      "417219  23.6175   87.6668  251.923  \n",
      "417220  14.8027  129.0830  235.290  \n",
      "417221  16.7492   98.6896  241.168  \n",
      "417222   9.3064  163.1990  247.370  \n",
      "\n",
      "[52560 rows x 9 columns]\n"
     ]
    }
   ],
   "source": [
    "print(Winddata_1_year)"
   ]
  },
  {
   "cell_type": "code",
   "execution_count": 14,
   "id": "ff0032b6",
   "metadata": {},
   "outputs": [
    {
     "name": "stdout",
     "output_type": "stream",
     "text": [
      "Confidence interval based on the Normal distribution: [8.825275882420442, 8.852564066299418]\n"
     ]
    }
   ],
   "source": [
    "# Confidence intervals using directly the Standard Normal distribution\n",
    "k_alpha = stats.norm.ppf(alpha/2)\n",
    "k_alpha_p = - stats.norm.ppf(1-alpha/2)\n",
    "\n",
    "CIn_N = Umean + k_alpha * (Ustd/(np.sqrt(n)))\n",
    "CIp_N = Umean - k_alpha * (Ustd/(np.sqrt(n)))\n",
    "\n",
    "print('Confidence interval based on the Normal distribution: [' + str(CIn_N) + ', ' + str(CIp_N) + ']')"
   ]
  },
  {
   "cell_type": "code",
   "execution_count": 15,
   "id": "b79e2dd5",
   "metadata": {},
   "outputs": [
    {
     "ename": "ValueError",
     "evalue": "The number of FixedLocator locations (3), usually from a call to set_ticks, does not match the number of labels (2).",
     "output_type": "error",
     "traceback": [
      "\u001b[1;31m---------------------------------------------------------------------------\u001b[0m",
      "\u001b[1;31mValueError\u001b[0m                                Traceback (most recent call last)",
      "Cell \u001b[1;32mIn[15], line 8\u001b[0m\n\u001b[0;32m      6\u001b[0m ax0\u001b[38;5;241m.\u001b[39mset_xlim([\u001b[38;5;241m0.5\u001b[39m,\u001b[38;5;241m3.5\u001b[39m])\n\u001b[0;32m      7\u001b[0m ax0\u001b[38;5;241m.\u001b[39mset_xticks([\u001b[38;5;241m1\u001b[39m,\u001b[38;5;241m2\u001b[39m,\u001b[38;5;241m3\u001b[39m])\n\u001b[1;32m----> 8\u001b[0m ax0\u001b[38;5;241m.\u001b[39mset_xticklabels([\u001b[38;5;124m'\u001b[39m\u001b[38;5;124mNormal dist.\u001b[39m\u001b[38;5;124m'\u001b[39m,\u001b[38;5;124m'\u001b[39m\u001b[38;5;124mBootstrapping\u001b[39m\u001b[38;5;124m'\u001b[39m])\n\u001b[0;32m      9\u001b[0m ax0\u001b[38;5;241m.\u001b[39mset_ylabel(\u001b[38;5;124m'\u001b[39m\u001b[38;5;124mAnnual mean wind speed [m/s]\u001b[39m\u001b[38;5;124m'\u001b[39m)\n\u001b[0;32m     10\u001b[0m plt\u001b[38;5;241m.\u001b[39mshow()\n",
      "File \u001b[1;32m~\\anaconda3\\envs\\dtu_env\\Lib\\site-packages\\matplotlib\\axes\\_base.py:74\u001b[0m, in \u001b[0;36m_axis_method_wrapper.__set_name__.<locals>.wrapper\u001b[1;34m(self, *args, **kwargs)\u001b[0m\n\u001b[0;32m     73\u001b[0m \u001b[38;5;28;01mdef\u001b[39;00m \u001b[38;5;21mwrapper\u001b[39m(\u001b[38;5;28mself\u001b[39m, \u001b[38;5;241m*\u001b[39margs, \u001b[38;5;241m*\u001b[39m\u001b[38;5;241m*\u001b[39mkwargs):\n\u001b[1;32m---> 74\u001b[0m     \u001b[38;5;28;01mreturn\u001b[39;00m get_method(\u001b[38;5;28mself\u001b[39m)(\u001b[38;5;241m*\u001b[39margs, \u001b[38;5;241m*\u001b[39m\u001b[38;5;241m*\u001b[39mkwargs)\n",
      "File \u001b[1;32m~\\anaconda3\\envs\\dtu_env\\Lib\\site-packages\\matplotlib\\_api\\deprecation.py:297\u001b[0m, in \u001b[0;36mrename_parameter.<locals>.wrapper\u001b[1;34m(*args, **kwargs)\u001b[0m\n\u001b[0;32m    292\u001b[0m     warn_deprecated(\n\u001b[0;32m    293\u001b[0m         since, message\u001b[38;5;241m=\u001b[39m\u001b[38;5;124mf\u001b[39m\u001b[38;5;124m\"\u001b[39m\u001b[38;5;124mThe \u001b[39m\u001b[38;5;132;01m{\u001b[39;00mold\u001b[38;5;132;01m!r}\u001b[39;00m\u001b[38;5;124m parameter of \u001b[39m\u001b[38;5;132;01m{\u001b[39;00mfunc\u001b[38;5;241m.\u001b[39m\u001b[38;5;18m__name__\u001b[39m\u001b[38;5;132;01m}\u001b[39;00m\u001b[38;5;124m() \u001b[39m\u001b[38;5;124m\"\u001b[39m\n\u001b[0;32m    294\u001b[0m         \u001b[38;5;124mf\u001b[39m\u001b[38;5;124m\"\u001b[39m\u001b[38;5;124mhas been renamed \u001b[39m\u001b[38;5;132;01m{\u001b[39;00mnew\u001b[38;5;132;01m!r}\u001b[39;00m\u001b[38;5;124m since Matplotlib \u001b[39m\u001b[38;5;132;01m{\u001b[39;00msince\u001b[38;5;132;01m}\u001b[39;00m\u001b[38;5;124m; support \u001b[39m\u001b[38;5;124m\"\u001b[39m\n\u001b[0;32m    295\u001b[0m         \u001b[38;5;124mf\u001b[39m\u001b[38;5;124m\"\u001b[39m\u001b[38;5;124mfor the old name will be dropped %(removal)s.\u001b[39m\u001b[38;5;124m\"\u001b[39m)\n\u001b[0;32m    296\u001b[0m     kwargs[new] \u001b[38;5;241m=\u001b[39m kwargs\u001b[38;5;241m.\u001b[39mpop(old)\n\u001b[1;32m--> 297\u001b[0m \u001b[38;5;28;01mreturn\u001b[39;00m func(\u001b[38;5;241m*\u001b[39margs, \u001b[38;5;241m*\u001b[39m\u001b[38;5;241m*\u001b[39mkwargs)\n",
      "File \u001b[1;32m~\\anaconda3\\envs\\dtu_env\\Lib\\site-packages\\matplotlib\\axis.py:1969\u001b[0m, in \u001b[0;36mAxis.set_ticklabels\u001b[1;34m(self, labels, minor, fontdict, **kwargs)\u001b[0m\n\u001b[0;32m   1965\u001b[0m \u001b[38;5;28;01mif\u001b[39;00m \u001b[38;5;28misinstance\u001b[39m(locator, mticker\u001b[38;5;241m.\u001b[39mFixedLocator):\n\u001b[0;32m   1966\u001b[0m     \u001b[38;5;66;03m# Passing [] as a list of labels is often used as a way to\u001b[39;00m\n\u001b[0;32m   1967\u001b[0m     \u001b[38;5;66;03m# remove all tick labels, so only error for > 0 labels\u001b[39;00m\n\u001b[0;32m   1968\u001b[0m     \u001b[38;5;28;01mif\u001b[39;00m \u001b[38;5;28mlen\u001b[39m(locator\u001b[38;5;241m.\u001b[39mlocs) \u001b[38;5;241m!=\u001b[39m \u001b[38;5;28mlen\u001b[39m(labels) \u001b[38;5;129;01mand\u001b[39;00m \u001b[38;5;28mlen\u001b[39m(labels) \u001b[38;5;241m!=\u001b[39m \u001b[38;5;241m0\u001b[39m:\n\u001b[1;32m-> 1969\u001b[0m         \u001b[38;5;28;01mraise\u001b[39;00m \u001b[38;5;167;01mValueError\u001b[39;00m(\n\u001b[0;32m   1970\u001b[0m             \u001b[38;5;124m\"\u001b[39m\u001b[38;5;124mThe number of FixedLocator locations\u001b[39m\u001b[38;5;124m\"\u001b[39m\n\u001b[0;32m   1971\u001b[0m             \u001b[38;5;124mf\u001b[39m\u001b[38;5;124m\"\u001b[39m\u001b[38;5;124m (\u001b[39m\u001b[38;5;132;01m{\u001b[39;00m\u001b[38;5;28mlen\u001b[39m(locator\u001b[38;5;241m.\u001b[39mlocs)\u001b[38;5;132;01m}\u001b[39;00m\u001b[38;5;124m), usually from a call to\u001b[39m\u001b[38;5;124m\"\u001b[39m\n\u001b[0;32m   1972\u001b[0m             \u001b[38;5;124m\"\u001b[39m\u001b[38;5;124m set_ticks, does not match\u001b[39m\u001b[38;5;124m\"\u001b[39m\n\u001b[0;32m   1973\u001b[0m             \u001b[38;5;124mf\u001b[39m\u001b[38;5;124m\"\u001b[39m\u001b[38;5;124m the number of labels (\u001b[39m\u001b[38;5;132;01m{\u001b[39;00m\u001b[38;5;28mlen\u001b[39m(labels)\u001b[38;5;132;01m}\u001b[39;00m\u001b[38;5;124m).\u001b[39m\u001b[38;5;124m\"\u001b[39m)\n\u001b[0;32m   1974\u001b[0m     tickd \u001b[38;5;241m=\u001b[39m {loc: lab \u001b[38;5;28;01mfor\u001b[39;00m loc, lab \u001b[38;5;129;01min\u001b[39;00m \u001b[38;5;28mzip\u001b[39m(locator\u001b[38;5;241m.\u001b[39mlocs, labels)}\n\u001b[0;32m   1975\u001b[0m     func \u001b[38;5;241m=\u001b[39m functools\u001b[38;5;241m.\u001b[39mpartial(\u001b[38;5;28mself\u001b[39m\u001b[38;5;241m.\u001b[39m_format_with_dict, tickd)\n",
      "\u001b[1;31mValueError\u001b[0m: The number of FixedLocator locations (3), usually from a call to set_ticks, does not match the number of labels (2)."
     ]
    },
    {
     "data": {
      "image/png": "[encoded data removed]",
      "text/plain": [
       "<Figure size 640x480 with 1 Axes>"
      ]
     },
     "metadata": {},
     "output_type": "display_data"
    }
   ],
   "source": [
    "# Plot errorbars\n",
    "fig0, ax0 = plt.subplots()\n",
    "ax0.errorbar([1, 2], [Umean, np.mean(BootstrapMeans)],\n",
    "             yerr = [(CIp_N - CIn_N), (CIp_B - CIn_B)],\n",
    "            linestyle = '',marker = 'o',capsize = 5)\n",
    "ax0.set_xlim([0.5,3.5])\n",
    "ax0.set_xticks([1,2,3])\n",
    "ax0.set_xticklabels(['Normal dist.','Bootstrapping'])\n",
    "ax0.set_ylabel('Annual mean wind speed [m/s]')\n",
    "plt.show()"
   ]
  },
  {
   "cell_type": "code",
   "execution_count": 16,
   "id": "a6e97482",
   "metadata": {},
   "outputs": [
    {
     "data": {
      "image/png": "[encoded data removed]",
      "text/plain": [
       "<Figure size 640x480 with 1 Axes>"
      ]
     },
     "metadata": {},
     "output_type": "display_data"
    }
   ],
   "source": [
    "# Plot pdfs\n",
    "\n",
    "Ubins = np.linspace(8.5,12,100)\n",
    "\n",
    "pdf_N = stats.norm.pdf(Ubins,Umean,Ustd/np.sqrt(n))\n",
    "dU = Ubins[1]-Ubins[0] # Scaling factor for the t-pdf to make sure we get a valid pdf for every bin spacing\n",
    "pdf_T = (1/np.sqrt(dU))*stats.t.pdf((Ubins - Umean)/(Ustd/np.sqrt(n)), n - 1)\n",
    "\n",
    "# Generating an empirical pdf from the bootstrap sample\n",
    "BootstrapHist = np.histogram(BootstrapMeans,bins = Ubins)\n",
    "BootstrapDist = stats.rv_histogram(BootstrapHist)\n",
    "pdf_B = BootstrapDist.pdf(Ubins)\n",
    "\n",
    "fig1, ax1 = plt.subplots()\n",
    "p11 = ax1.plot(Ubins,pdf_N,'--r', label = 'Normal')\n",
    "p12 = ax1.plot(Ubins,pdf_B,'-b', label = 'Bootstrapping')\n",
    "plt.xlabel('Annual mean wind speed [m/s]')\n",
    "plt.ylabel('Probability density')\n",
    "plt.legend()\n",
    "\n",
    "plt.show()"
   ]
  },
  {
   "cell_type": "code",
   "execution_count": null,
   "id": "29738d7a",
   "metadata": {},
   "outputs": [],
   "source": []
  }
 ],
 "metadata": {
  "kernelspec": {
   "display_name": "Python 3 (ipykernel)",
   "language": "python",
   "name": "python3"
  },
  "language_info": {
   "codemirror_mode": {
    "name": "ipython",
    "version": 3
   },
   "file_extension": ".py",
   "mimetype": "text/x-python",
   "name": "python",
   "nbconvert_exporter": "python",
   "pygments_lexer": "ipython3",
   "version": "3.11.4"
  }
 },
 "nbformat": 4,
 "nbformat_minor": 5
}
