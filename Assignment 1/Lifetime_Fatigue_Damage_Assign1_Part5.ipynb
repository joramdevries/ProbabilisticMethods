{
 "cells": [
  {
   "cell_type": "code",
   "execution_count": null,
   "id": "5bb4ead5",
   "metadata": {},
   "outputs": [],
   "source": [
    "import numpy as np\n",
    "import pandas as pd\n",
    "import scipy.stats as stats\n",
    "import scipy\n",
    "import matplotlib.pyplot as plt\n",
    "import sklearn\n",
    "import sklearn.neural_network"
   ]
  },
  {
   "cell_type": "markdown",
   "id": "97084460",
   "metadata": {},
   "source": [
    "### On obtaining the total lifetime fatigue damage:\n",
    "You will need to do a numerical integration (represented in discrete form as a sum) of the short-term damage\n",
    "𝑀𝑥,𝑗 over the distribution of environmental conditions – including propagating the environmental\n",
    "uncertainty 𝑋𝑊. We already know a simple integration method – the crude Monte Carlo simulation. However,\n",
    "as we know the outcomes of the Monte Carlo simulation are also uncertain (repeated Monte Carlo\n",
    "simulations under the same conditions will still produce different results). This is acceptable if the reliability\n",
    "analysis (which is another, “outer loop” integration step in our task) is also done with a Monte Carlo\n",
    "simulation. However, there may be challenges if we want to apply gradient-based techniques such as FORM\n",
    "and if the underlying lifetime fatigue damage calculation is done with Monte Carlo. Alternatives include:\n",
    "- Using Importance Sampling based on a deterministic Quasi-Monte Carlo sequence;\n",
    "- Using a structured grid design with probability weighting."
   ]
  },
  {
   "cell_type": "markdown",
   "id": "e4fdf94b",
   "metadata": {},
   "source": [
    "$$ g(\\mathbf{X}) = \\Delta - \\frac{1}{N_{\\text{short-term}} \\cdot k} \\sum_{j=1}^{N_{\\text{short-term}}} \\left[ X_M \\cdot M_{x, j} \\left[ u(\\mathbf{X}_W), \\sigma_u, \\alpha \\right] \\right]^m ; $$ \n"
   ]
  },
  {
   "cell_type": "markdown",
   "id": "5dd49fe9",
   "metadata": {},
   "source": [
    "$$ P_f = \\int II_{g(\\textbf{X})<0} f(\\textbf{X})d\\textbf{X} $$ "
   ]
  },
  {
   "cell_type": "code",
   "execution_count": 4,
   "id": "b2a76415",
   "metadata": {},
   "outputs": [],
   "source": [
    "# Limit state function and gradient function implemented\n",
    "g = lambda u: Delta -(1/N*k)*np.sum((Xm*Mx)**m)\n"
   ]
  },
  {
   "cell_type": "code",
   "execution_count": null,
   "id": "d63eec48",
   "metadata": {},
   "outputs": [],
   "source": [
    "X_M = # Loads model uncertainty (you get this from Part3)\n",
    "X_W = # Uncertainty in wind conditions (you get this from Part2)\n",
    "\n",
    "N = 1000 # User-defined\n",
    "k = # Fatigue strength normalization factor (?)\n",
    "m = # Fatigue S-N curve slope (?)"
   ]
  }
 ],
 "metadata": {
  "kernelspec": {
   "display_name": "Python 3 (ipykernel)",
   "language": "python",
   "name": "python3"
  },
  "language_info": {
   "codemirror_mode": {
    "name": "ipython",
    "version": 3
   },
   "file_extension": ".py",
   "mimetype": "text/x-python",
   "name": "python",
   "nbconvert_exporter": "python",
   "pygments_lexer": "ipython3",
   "version": "3.11.4"
  }
 },
 "nbformat": 4,
 "nbformat_minor": 5
}
