{
 "cells": [
  {
   "cell_type": "code",
   "execution_count": 1,
   "id": "1e5ab5c2",
   "metadata": {},
   "outputs": [],
   "source": [
    "import numpy as np\n",
    "import pandas as pd\n",
    "import scipy.stats as stats\n",
    "import scipy\n",
    "import matplotlib.pyplot as plt\n",
    "import sklearn\n",
    "import sklearn.neural_network"
   ]
  },
  {
   "cell_type": "code",
   "execution_count": 2,
   "id": "80f5755e",
   "metadata": {},
   "outputs": [],
   "source": [
    "WindData = pd.read_csv('HovsoreData_Sonic_100m_2004-2013.csv')"
   ]
  },
  {
   "cell_type": "code",
   "execution_count": 3,
   "id": "995a07e6",
   "metadata": {},
   "outputs": [],
   "source": [
    "# Filter rows where 'Wsp' is less than or equal to 35 m/s\n",
    "filtered_WindData = WindData[WindData['Wsp'] <= 35]\n",
    "\n",
    "filtered_WindData.loc[filtered_WindData[\"TI\"] <= 0.001] = np.nan\n",
    "\n",
    "filtered_WindData = filtered_WindData.dropna()\n",
    "\n",
    "# Save the filtered data to a new CSV file\n",
    "filtered_csv_file = 'FilteredWindData.csv'\n",
    "filtered_WindData.to_csv(filtered_csv_file, index=False)\n",
    "\n",
    "WindData = filtered_WindData"
   ]
  },
  {
   "cell_type": "code",
   "execution_count": 4,
   "id": "3ffc4f48",
   "metadata": {},
   "outputs": [],
   "source": [
    "U = WindData['Wsp']"
   ]
  },
  {
   "cell_type": "code",
   "execution_count": 5,
   "id": "222550d5",
   "metadata": {},
   "outputs": [
    {
     "name": "stdout",
     "output_type": "stream",
     "text": [
      "Umean =  8.83891997435993\n",
      "Ustd =  4.563811841180505\n",
      "n =  429796\n"
     ]
    }
   ],
   "source": [
    "Umean = np.mean(U)\n",
    "Ustd = np.std(U)\n",
    "\n",
    "n = len(U) # Count the number of samples\n",
    "\n",
    "\n",
    "print(\"Umean = \", Umean)\n",
    "print(\"Ustd = \", Ustd)\n",
    "print(\"n = \", n)"
   ]
  },
  {
   "cell_type": "code",
   "execution_count": null,
   "id": "aa4d701e",
   "metadata": {},
   "outputs": [],
   "source": []
  }
 ],
 "metadata": {
  "kernelspec": {
   "display_name": "Python 3 (ipykernel)",
   "language": "python",
   "name": "python3"
  },
  "language_info": {
   "codemirror_mode": {
    "name": "ipython",
    "version": 3
   },
   "file_extension": ".py",
   "mimetype": "text/x-python",
   "name": "python",
   "nbconvert_exporter": "python",
   "pygments_lexer": "ipython3",
   "version": "3.11.4"
  }
 },
 "nbformat": 4,
 "nbformat_minor": 5
}
